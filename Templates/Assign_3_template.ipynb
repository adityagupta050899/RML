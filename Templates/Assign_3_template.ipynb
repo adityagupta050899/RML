{
  "cells": [
    {
      "cell_type": "markdown",
      "id": "1934d2de",
      "metadata": {
        "id": "1934d2de"
      },
      "source": [
        "## License\n",
        "\n",
        "Copyright 2021 - 2023 Patrick Hall (jphall@gwu.edu)\n",
        "\n",
        "Licensed under the Apache License, Version 2.0 (the \"License\");\n",
        "you may not use this file except in compliance with the License.\n",
        "You may obtain a copy of the License at\n",
        "\n",
        "    http://www.apache.org/licenses/LICENSE-2.0\n",
        "\n",
        "Unless required by applicable law or agreed to in writing, software\n",
        "distributed under the License is distributed on an \"AS IS\" BASIS,\n",
        "WITHOUT WARRANTIES OR CONDITIONS OF ANY KIND, either express or implied.\n",
        "See the License for the specific language governing permissions and\n",
        "limitations under the License.\n",
        "\n",
        "*DISCLAIMER*: This notebook is not legal or compliance advice."
      ]
    },
    {
      "cell_type": "markdown",
      "id": "c7556803",
      "metadata": {
        "id": "c7556803"
      },
      "source": [
        "# Assignment 3 Template"
      ]
    },
    {
      "cell_type": "markdown",
      "id": "44ddbb28",
      "metadata": {
        "id": "44ddbb28"
      },
      "source": [
        "#### Imports and inits"
      ]
    },
    {
      "cell_type": "code",
      "execution_count": 1,
      "id": "P9c8tDuX1Ij8",
      "metadata": {
        "colab": {
          "base_uri": "https://localhost:8080/"
        },
        "id": "P9c8tDuX1Ij8",
        "outputId": "3b039c04-a7e4-4639-e809-8709c6f5753a"
      },
      "outputs": [
        {
          "output_type": "stream",
          "name": "stdout",
          "text": [
            "Collecting interpret\n",
            "  Downloading interpret-0.6.10-py3-none-any.whl.metadata (1.2 kB)\n",
            "Collecting interpret-core==0.6.10 (from interpret-core[aplr,dash,debug,linear,notebook,plotly,sensitivity,shap]==0.6.10->interpret)\n",
            "  Downloading interpret_core-0.6.10-py3-none-any.whl.metadata (2.9 kB)\n",
            "Requirement already satisfied: numpy>=1.25 in /usr/local/lib/python3.11/dist-packages (from interpret-core==0.6.10->interpret-core[aplr,dash,debug,linear,notebook,plotly,sensitivity,shap]==0.6.10->interpret) (2.0.2)\n",
            "Requirement already satisfied: pandas>=0.19.2 in /usr/local/lib/python3.11/dist-packages (from interpret-core==0.6.10->interpret-core[aplr,dash,debug,linear,notebook,plotly,sensitivity,shap]==0.6.10->interpret) (2.2.2)\n",
            "Requirement already satisfied: scikit-learn>=0.18.1 in /usr/local/lib/python3.11/dist-packages (from interpret-core==0.6.10->interpret-core[aplr,dash,debug,linear,notebook,plotly,sensitivity,shap]==0.6.10->interpret) (1.6.1)\n",
            "Requirement already satisfied: joblib>=0.11 in /usr/local/lib/python3.11/dist-packages (from interpret-core==0.6.10->interpret-core[aplr,dash,debug,linear,notebook,plotly,sensitivity,shap]==0.6.10->interpret) (1.4.2)\n",
            "Requirement already satisfied: psutil>=5.6.2 in /usr/local/lib/python3.11/dist-packages (from interpret-core[aplr,dash,debug,linear,notebook,plotly,sensitivity,shap]==0.6.10->interpret) (5.9.5)\n",
            "Requirement already satisfied: ipykernel>=4.10.0 in /usr/local/lib/python3.11/dist-packages (from interpret-core[aplr,dash,debug,linear,notebook,plotly,sensitivity,shap]==0.6.10->interpret) (6.17.1)\n",
            "Requirement already satisfied: ipython>=5.5.0 in /usr/local/lib/python3.11/dist-packages (from interpret-core[aplr,dash,debug,linear,notebook,plotly,sensitivity,shap]==0.6.10->interpret) (7.34.0)\n",
            "Requirement already satisfied: plotly>=3.8.1 in /usr/local/lib/python3.11/dist-packages (from interpret-core[aplr,dash,debug,linear,notebook,plotly,sensitivity,shap]==0.6.10->interpret) (5.24.1)\n",
            "Collecting SALib>=1.3.3 (from interpret-core[aplr,dash,debug,linear,notebook,plotly,sensitivity,shap]==0.6.10->interpret)\n",
            "  Downloading salib-1.5.1-py3-none-any.whl.metadata (11 kB)\n",
            "Requirement already satisfied: shap>=0.28.5 in /usr/local/lib/python3.11/dist-packages (from interpret-core[aplr,dash,debug,linear,notebook,plotly,sensitivity,shap]==0.6.10->interpret) (0.47.1)\n",
            "Collecting dill>=0.2.5 (from interpret-core[aplr,dash,debug,linear,notebook,plotly,sensitivity,shap]==0.6.10->interpret)\n",
            "  Downloading dill-0.3.9-py3-none-any.whl.metadata (10 kB)\n",
            "Collecting aplr>=10.6.1 (from interpret-core[aplr,dash,debug,linear,notebook,plotly,sensitivity,shap]==0.6.10->interpret)\n",
            "  Downloading aplr-10.8.0-cp311-cp311-manylinux_2_17_x86_64.manylinux2014_x86_64.whl.metadata (2.1 kB)\n",
            "Collecting dash<3.0.0,>=1.0.0 (from interpret-core[aplr,dash,debug,linear,notebook,plotly,sensitivity,shap]==0.6.10->interpret)\n",
            "  Downloading dash-2.18.2-py3-none-any.whl.metadata (10 kB)\n",
            "Collecting dash-core-components>=1.0.0 (from interpret-core[aplr,dash,debug,linear,notebook,plotly,sensitivity,shap]==0.6.10->interpret)\n",
            "  Downloading dash_core_components-2.0.0-py3-none-any.whl.metadata (2.9 kB)\n",
            "Collecting dash-html-components>=1.0.0 (from interpret-core[aplr,dash,debug,linear,notebook,plotly,sensitivity,shap]==0.6.10->interpret)\n",
            "  Downloading dash_html_components-2.0.0-py3-none-any.whl.metadata (3.8 kB)\n",
            "Collecting dash-table>=4.1.0 (from interpret-core[aplr,dash,debug,linear,notebook,plotly,sensitivity,shap]==0.6.10->interpret)\n",
            "  Downloading dash_table-5.0.0-py3-none-any.whl.metadata (2.4 kB)\n",
            "Collecting dash-cytoscape>=0.1.1 (from interpret-core[aplr,dash,debug,linear,notebook,plotly,sensitivity,shap]==0.6.10->interpret)\n",
            "  Downloading dash_cytoscape-1.0.2.tar.gz (4.0 MB)\n",
            "\u001b[2K     \u001b[90m━━━━━━━━━━━━━━━━━━━━━━━━━━━━━━━━━━━━━━━━\u001b[0m \u001b[32m4.0/4.0 MB\u001b[0m \u001b[31m18.8 MB/s\u001b[0m eta \u001b[36m0:00:00\u001b[0m\n",
            "\u001b[?25h  Preparing metadata (setup.py) ... \u001b[?25l\u001b[?25hdone\n",
            "Collecting gevent>=1.3.6 (from interpret-core[aplr,dash,debug,linear,notebook,plotly,sensitivity,shap]==0.6.10->interpret)\n",
            "  Downloading gevent-24.11.1-cp311-cp311-manylinux_2_17_x86_64.manylinux2014_x86_64.whl.metadata (13 kB)\n",
            "Requirement already satisfied: requests>=2.19.0 in /usr/local/lib/python3.11/dist-packages (from interpret-core[aplr,dash,debug,linear,notebook,plotly,sensitivity,shap]==0.6.10->interpret) (2.32.3)\n",
            "Collecting Flask<3.1,>=1.0.4 (from dash<3.0.0,>=1.0.0->interpret-core[aplr,dash,debug,linear,notebook,plotly,sensitivity,shap]==0.6.10->interpret)\n",
            "  Downloading flask-3.0.3-py3-none-any.whl.metadata (3.2 kB)\n",
            "Collecting Werkzeug<3.1 (from dash<3.0.0,>=1.0.0->interpret-core[aplr,dash,debug,linear,notebook,plotly,sensitivity,shap]==0.6.10->interpret)\n",
            "  Downloading werkzeug-3.0.6-py3-none-any.whl.metadata (3.7 kB)\n",
            "Requirement already satisfied: importlib-metadata in /usr/local/lib/python3.11/dist-packages (from dash<3.0.0,>=1.0.0->interpret-core[aplr,dash,debug,linear,notebook,plotly,sensitivity,shap]==0.6.10->interpret) (8.6.1)\n",
            "Requirement already satisfied: typing-extensions>=4.1.1 in /usr/local/lib/python3.11/dist-packages (from dash<3.0.0,>=1.0.0->interpret-core[aplr,dash,debug,linear,notebook,plotly,sensitivity,shap]==0.6.10->interpret) (4.13.0)\n",
            "Collecting retrying (from dash<3.0.0,>=1.0.0->interpret-core[aplr,dash,debug,linear,notebook,plotly,sensitivity,shap]==0.6.10->interpret)\n",
            "  Downloading retrying-1.3.4-py3-none-any.whl.metadata (6.9 kB)\n",
            "Requirement already satisfied: nest-asyncio in /usr/local/lib/python3.11/dist-packages (from dash<3.0.0,>=1.0.0->interpret-core[aplr,dash,debug,linear,notebook,plotly,sensitivity,shap]==0.6.10->interpret) (1.6.0)\n",
            "Requirement already satisfied: setuptools in /usr/local/lib/python3.11/dist-packages (from dash<3.0.0,>=1.0.0->interpret-core[aplr,dash,debug,linear,notebook,plotly,sensitivity,shap]==0.6.10->interpret) (75.2.0)\n",
            "Collecting zope.event (from gevent>=1.3.6->interpret-core[aplr,dash,debug,linear,notebook,plotly,sensitivity,shap]==0.6.10->interpret)\n",
            "  Downloading zope.event-5.0-py3-none-any.whl.metadata (4.4 kB)\n",
            "Collecting zope.interface (from gevent>=1.3.6->interpret-core[aplr,dash,debug,linear,notebook,plotly,sensitivity,shap]==0.6.10->interpret)\n",
            "  Downloading zope.interface-7.2-cp311-cp311-manylinux_2_5_x86_64.manylinux1_x86_64.manylinux_2_17_x86_64.manylinux2014_x86_64.whl.metadata (44 kB)\n",
            "\u001b[2K     \u001b[90m━━━━━━━━━━━━━━━━━━━━━━━━━━━━━━━━━━━━━━━━\u001b[0m \u001b[32m44.4/44.4 kB\u001b[0m \u001b[31m745.3 kB/s\u001b[0m eta \u001b[36m0:00:00\u001b[0m\n",
            "\u001b[?25hRequirement already satisfied: greenlet>=3.1.1 in /usr/local/lib/python3.11/dist-packages (from gevent>=1.3.6->interpret-core[aplr,dash,debug,linear,notebook,plotly,sensitivity,shap]==0.6.10->interpret) (3.1.1)\n",
            "Requirement already satisfied: debugpy>=1.0 in /usr/local/lib/python3.11/dist-packages (from ipykernel>=4.10.0->interpret-core[aplr,dash,debug,linear,notebook,plotly,sensitivity,shap]==0.6.10->interpret) (1.8.0)\n",
            "Requirement already satisfied: jupyter-client>=6.1.12 in /usr/local/lib/python3.11/dist-packages (from ipykernel>=4.10.0->interpret-core[aplr,dash,debug,linear,notebook,plotly,sensitivity,shap]==0.6.10->interpret) (6.1.12)\n",
            "Requirement already satisfied: matplotlib-inline>=0.1 in /usr/local/lib/python3.11/dist-packages (from ipykernel>=4.10.0->interpret-core[aplr,dash,debug,linear,notebook,plotly,sensitivity,shap]==0.6.10->interpret) (0.1.7)\n",
            "Requirement already satisfied: packaging in /usr/local/lib/python3.11/dist-packages (from ipykernel>=4.10.0->interpret-core[aplr,dash,debug,linear,notebook,plotly,sensitivity,shap]==0.6.10->interpret) (24.2)\n",
            "Requirement already satisfied: pyzmq>=17 in /usr/local/lib/python3.11/dist-packages (from ipykernel>=4.10.0->interpret-core[aplr,dash,debug,linear,notebook,plotly,sensitivity,shap]==0.6.10->interpret) (24.0.1)\n",
            "Requirement already satisfied: tornado>=6.1 in /usr/local/lib/python3.11/dist-packages (from ipykernel>=4.10.0->interpret-core[aplr,dash,debug,linear,notebook,plotly,sensitivity,shap]==0.6.10->interpret) (6.4.2)\n",
            "Requirement already satisfied: traitlets>=5.1.0 in /usr/local/lib/python3.11/dist-packages (from ipykernel>=4.10.0->interpret-core[aplr,dash,debug,linear,notebook,plotly,sensitivity,shap]==0.6.10->interpret) (5.7.1)\n",
            "Collecting jedi>=0.16 (from ipython>=5.5.0->interpret-core[aplr,dash,debug,linear,notebook,plotly,sensitivity,shap]==0.6.10->interpret)\n",
            "  Downloading jedi-0.19.2-py2.py3-none-any.whl.metadata (22 kB)\n",
            "Requirement already satisfied: decorator in /usr/local/lib/python3.11/dist-packages (from ipython>=5.5.0->interpret-core[aplr,dash,debug,linear,notebook,plotly,sensitivity,shap]==0.6.10->interpret) (4.4.2)\n",
            "Requirement already satisfied: pickleshare in /usr/local/lib/python3.11/dist-packages (from ipython>=5.5.0->interpret-core[aplr,dash,debug,linear,notebook,plotly,sensitivity,shap]==0.6.10->interpret) (0.7.5)\n",
            "Requirement already satisfied: prompt-toolkit!=3.0.0,!=3.0.1,<3.1.0,>=2.0.0 in /usr/local/lib/python3.11/dist-packages (from ipython>=5.5.0->interpret-core[aplr,dash,debug,linear,notebook,plotly,sensitivity,shap]==0.6.10->interpret) (3.0.50)\n",
            "Requirement already satisfied: pygments in /usr/local/lib/python3.11/dist-packages (from ipython>=5.5.0->interpret-core[aplr,dash,debug,linear,notebook,plotly,sensitivity,shap]==0.6.10->interpret) (2.18.0)\n",
            "Requirement already satisfied: backcall in /usr/local/lib/python3.11/dist-packages (from ipython>=5.5.0->interpret-core[aplr,dash,debug,linear,notebook,plotly,sensitivity,shap]==0.6.10->interpret) (0.2.0)\n",
            "Requirement already satisfied: pexpect>4.3 in /usr/local/lib/python3.11/dist-packages (from ipython>=5.5.0->interpret-core[aplr,dash,debug,linear,notebook,plotly,sensitivity,shap]==0.6.10->interpret) (4.9.0)\n",
            "Requirement already satisfied: python-dateutil>=2.8.2 in /usr/local/lib/python3.11/dist-packages (from pandas>=0.19.2->interpret-core==0.6.10->interpret-core[aplr,dash,debug,linear,notebook,plotly,sensitivity,shap]==0.6.10->interpret) (2.8.2)\n",
            "Requirement already satisfied: pytz>=2020.1 in /usr/local/lib/python3.11/dist-packages (from pandas>=0.19.2->interpret-core==0.6.10->interpret-core[aplr,dash,debug,linear,notebook,plotly,sensitivity,shap]==0.6.10->interpret) (2025.2)\n",
            "Requirement already satisfied: tzdata>=2022.7 in /usr/local/lib/python3.11/dist-packages (from pandas>=0.19.2->interpret-core==0.6.10->interpret-core[aplr,dash,debug,linear,notebook,plotly,sensitivity,shap]==0.6.10->interpret) (2025.2)\n",
            "Requirement already satisfied: tenacity>=6.2.0 in /usr/local/lib/python3.11/dist-packages (from plotly>=3.8.1->interpret-core[aplr,dash,debug,linear,notebook,plotly,sensitivity,shap]==0.6.10->interpret) (9.1.2)\n",
            "Requirement already satisfied: charset-normalizer<4,>=2 in /usr/local/lib/python3.11/dist-packages (from requests>=2.19.0->interpret-core[aplr,dash,debug,linear,notebook,plotly,sensitivity,shap]==0.6.10->interpret) (3.4.1)\n",
            "Requirement already satisfied: idna<4,>=2.5 in /usr/local/lib/python3.11/dist-packages (from requests>=2.19.0->interpret-core[aplr,dash,debug,linear,notebook,plotly,sensitivity,shap]==0.6.10->interpret) (3.10)\n",
            "Requirement already satisfied: urllib3<3,>=1.21.1 in /usr/local/lib/python3.11/dist-packages (from requests>=2.19.0->interpret-core[aplr,dash,debug,linear,notebook,plotly,sensitivity,shap]==0.6.10->interpret) (2.3.0)\n",
            "Requirement already satisfied: certifi>=2017.4.17 in /usr/local/lib/python3.11/dist-packages (from requests>=2.19.0->interpret-core[aplr,dash,debug,linear,notebook,plotly,sensitivity,shap]==0.6.10->interpret) (2025.1.31)\n",
            "Requirement already satisfied: matplotlib>=3.5 in /usr/local/lib/python3.11/dist-packages (from SALib>=1.3.3->interpret-core[aplr,dash,debug,linear,notebook,plotly,sensitivity,shap]==0.6.10->interpret) (3.10.0)\n",
            "Collecting multiprocess (from SALib>=1.3.3->interpret-core[aplr,dash,debug,linear,notebook,plotly,sensitivity,shap]==0.6.10->interpret)\n",
            "  Downloading multiprocess-0.70.17-py311-none-any.whl.metadata (7.2 kB)\n",
            "Requirement already satisfied: scipy>=1.9.3 in /usr/local/lib/python3.11/dist-packages (from SALib>=1.3.3->interpret-core[aplr,dash,debug,linear,notebook,plotly,sensitivity,shap]==0.6.10->interpret) (1.14.1)\n",
            "Requirement already satisfied: threadpoolctl>=3.1.0 in /usr/local/lib/python3.11/dist-packages (from scikit-learn>=0.18.1->interpret-core==0.6.10->interpret-core[aplr,dash,debug,linear,notebook,plotly,sensitivity,shap]==0.6.10->interpret) (3.6.0)\n",
            "Requirement already satisfied: tqdm>=4.27.0 in /usr/local/lib/python3.11/dist-packages (from shap>=0.28.5->interpret-core[aplr,dash,debug,linear,notebook,plotly,sensitivity,shap]==0.6.10->interpret) (4.67.1)\n",
            "Requirement already satisfied: slicer==0.0.8 in /usr/local/lib/python3.11/dist-packages (from shap>=0.28.5->interpret-core[aplr,dash,debug,linear,notebook,plotly,sensitivity,shap]==0.6.10->interpret) (0.0.8)\n",
            "Requirement already satisfied: numba>=0.54 in /usr/local/lib/python3.11/dist-packages (from shap>=0.28.5->interpret-core[aplr,dash,debug,linear,notebook,plotly,sensitivity,shap]==0.6.10->interpret) (0.60.0)\n",
            "Requirement already satisfied: cloudpickle in /usr/local/lib/python3.11/dist-packages (from shap>=0.28.5->interpret-core[aplr,dash,debug,linear,notebook,plotly,sensitivity,shap]==0.6.10->interpret) (3.1.1)\n",
            "Requirement already satisfied: Jinja2>=3.1.2 in /usr/local/lib/python3.11/dist-packages (from Flask<3.1,>=1.0.4->dash<3.0.0,>=1.0.0->interpret-core[aplr,dash,debug,linear,notebook,plotly,sensitivity,shap]==0.6.10->interpret) (3.1.6)\n",
            "Requirement already satisfied: itsdangerous>=2.1.2 in /usr/local/lib/python3.11/dist-packages (from Flask<3.1,>=1.0.4->dash<3.0.0,>=1.0.0->interpret-core[aplr,dash,debug,linear,notebook,plotly,sensitivity,shap]==0.6.10->interpret) (2.2.0)\n",
            "Requirement already satisfied: click>=8.1.3 in /usr/local/lib/python3.11/dist-packages (from Flask<3.1,>=1.0.4->dash<3.0.0,>=1.0.0->interpret-core[aplr,dash,debug,linear,notebook,plotly,sensitivity,shap]==0.6.10->interpret) (8.1.8)\n",
            "Requirement already satisfied: blinker>=1.6.2 in /usr/local/lib/python3.11/dist-packages (from Flask<3.1,>=1.0.4->dash<3.0.0,>=1.0.0->interpret-core[aplr,dash,debug,linear,notebook,plotly,sensitivity,shap]==0.6.10->interpret) (1.9.0)\n",
            "Requirement already satisfied: parso<0.9.0,>=0.8.4 in /usr/local/lib/python3.11/dist-packages (from jedi>=0.16->ipython>=5.5.0->interpret-core[aplr,dash,debug,linear,notebook,plotly,sensitivity,shap]==0.6.10->interpret) (0.8.4)\n",
            "Requirement already satisfied: jupyter-core>=4.6.0 in /usr/local/lib/python3.11/dist-packages (from jupyter-client>=6.1.12->ipykernel>=4.10.0->interpret-core[aplr,dash,debug,linear,notebook,plotly,sensitivity,shap]==0.6.10->interpret) (5.7.2)\n",
            "Requirement already satisfied: contourpy>=1.0.1 in /usr/local/lib/python3.11/dist-packages (from matplotlib>=3.5->SALib>=1.3.3->interpret-core[aplr,dash,debug,linear,notebook,plotly,sensitivity,shap]==0.6.10->interpret) (1.3.1)\n",
            "Requirement already satisfied: cycler>=0.10 in /usr/local/lib/python3.11/dist-packages (from matplotlib>=3.5->SALib>=1.3.3->interpret-core[aplr,dash,debug,linear,notebook,plotly,sensitivity,shap]==0.6.10->interpret) (0.12.1)\n",
            "Requirement already satisfied: fonttools>=4.22.0 in /usr/local/lib/python3.11/dist-packages (from matplotlib>=3.5->SALib>=1.3.3->interpret-core[aplr,dash,debug,linear,notebook,plotly,sensitivity,shap]==0.6.10->interpret) (4.56.0)\n",
            "Requirement already satisfied: kiwisolver>=1.3.1 in /usr/local/lib/python3.11/dist-packages (from matplotlib>=3.5->SALib>=1.3.3->interpret-core[aplr,dash,debug,linear,notebook,plotly,sensitivity,shap]==0.6.10->interpret) (1.4.8)\n",
            "Requirement already satisfied: pillow>=8 in /usr/local/lib/python3.11/dist-packages (from matplotlib>=3.5->SALib>=1.3.3->interpret-core[aplr,dash,debug,linear,notebook,plotly,sensitivity,shap]==0.6.10->interpret) (11.1.0)\n",
            "Requirement already satisfied: pyparsing>=2.3.1 in /usr/local/lib/python3.11/dist-packages (from matplotlib>=3.5->SALib>=1.3.3->interpret-core[aplr,dash,debug,linear,notebook,plotly,sensitivity,shap]==0.6.10->interpret) (3.2.3)\n",
            "Requirement already satisfied: llvmlite<0.44,>=0.43.0dev0 in /usr/local/lib/python3.11/dist-packages (from numba>=0.54->shap>=0.28.5->interpret-core[aplr,dash,debug,linear,notebook,plotly,sensitivity,shap]==0.6.10->interpret) (0.43.0)\n",
            "Requirement already satisfied: ptyprocess>=0.5 in /usr/local/lib/python3.11/dist-packages (from pexpect>4.3->ipython>=5.5.0->interpret-core[aplr,dash,debug,linear,notebook,plotly,sensitivity,shap]==0.6.10->interpret) (0.7.0)\n",
            "Requirement already satisfied: wcwidth in /usr/local/lib/python3.11/dist-packages (from prompt-toolkit!=3.0.0,!=3.0.1,<3.1.0,>=2.0.0->ipython>=5.5.0->interpret-core[aplr,dash,debug,linear,notebook,plotly,sensitivity,shap]==0.6.10->interpret) (0.2.13)\n",
            "Requirement already satisfied: six>=1.5 in /usr/local/lib/python3.11/dist-packages (from python-dateutil>=2.8.2->pandas>=0.19.2->interpret-core==0.6.10->interpret-core[aplr,dash,debug,linear,notebook,plotly,sensitivity,shap]==0.6.10->interpret) (1.17.0)\n",
            "Requirement already satisfied: MarkupSafe>=2.1.1 in /usr/local/lib/python3.11/dist-packages (from Werkzeug<3.1->dash<3.0.0,>=1.0.0->interpret-core[aplr,dash,debug,linear,notebook,plotly,sensitivity,shap]==0.6.10->interpret) (3.0.2)\n",
            "Requirement already satisfied: zipp>=3.20 in /usr/local/lib/python3.11/dist-packages (from importlib-metadata->dash<3.0.0,>=1.0.0->interpret-core[aplr,dash,debug,linear,notebook,plotly,sensitivity,shap]==0.6.10->interpret) (3.21.0)\n",
            "Requirement already satisfied: platformdirs>=2.5 in /usr/local/lib/python3.11/dist-packages (from jupyter-core>=4.6.0->jupyter-client>=6.1.12->ipykernel>=4.10.0->interpret-core[aplr,dash,debug,linear,notebook,plotly,sensitivity,shap]==0.6.10->interpret) (4.3.7)\n",
            "Downloading interpret-0.6.10-py3-none-any.whl (1.4 kB)\n",
            "Downloading interpret_core-0.6.10-py3-none-any.whl (16.6 MB)\n",
            "\u001b[2K   \u001b[90m━━━━━━━━━━━━━━━━━━━━━━━━━━━━━━━━━━━━━━━━\u001b[0m \u001b[32m16.6/16.6 MB\u001b[0m \u001b[31m21.6 MB/s\u001b[0m eta \u001b[36m0:00:00\u001b[0m\n",
            "\u001b[?25hDownloading aplr-10.8.0-cp311-cp311-manylinux_2_17_x86_64.manylinux2014_x86_64.whl (6.7 MB)\n",
            "\u001b[2K   \u001b[90m━━━━━━━━━━━━━━━━━━━━━━━━━━━━━━━━━━━━━━━━\u001b[0m \u001b[32m6.7/6.7 MB\u001b[0m \u001b[31m30.8 MB/s\u001b[0m eta \u001b[36m0:00:00\u001b[0m\n",
            "\u001b[?25hDownloading dash-2.18.2-py3-none-any.whl (7.8 MB)\n",
            "\u001b[2K   \u001b[90m━━━━━━━━━━━━━━━━━━━━━━━━━━━━━━━━━━━━━━━━\u001b[0m \u001b[32m7.8/7.8 MB\u001b[0m \u001b[31m15.7 MB/s\u001b[0m eta \u001b[36m0:00:00\u001b[0m\n",
            "\u001b[?25hDownloading dash_core_components-2.0.0-py3-none-any.whl (3.8 kB)\n",
            "Downloading dash_html_components-2.0.0-py3-none-any.whl (4.1 kB)\n",
            "Downloading dash_table-5.0.0-py3-none-any.whl (3.9 kB)\n",
            "Downloading dill-0.3.9-py3-none-any.whl (119 kB)\n",
            "\u001b[2K   \u001b[90m━━━━━━━━━━━━━━━━━━━━━━━━━━━━━━━━━━━━━━━━\u001b[0m \u001b[32m119.4/119.4 kB\u001b[0m \u001b[31m3.4 MB/s\u001b[0m eta \u001b[36m0:00:00\u001b[0m\n",
            "\u001b[?25hDownloading gevent-24.11.1-cp311-cp311-manylinux_2_17_x86_64.manylinux2014_x86_64.whl (6.8 MB)\n",
            "\u001b[2K   \u001b[90m━━━━━━━━━━━━━━━━━━━━━━━━━━━━━━━━━━━━━━━━\u001b[0m \u001b[32m6.8/6.8 MB\u001b[0m \u001b[31m13.8 MB/s\u001b[0m eta \u001b[36m0:00:00\u001b[0m\n",
            "\u001b[?25hDownloading salib-1.5.1-py3-none-any.whl (778 kB)\n",
            "\u001b[2K   \u001b[90m━━━━━━━━━━━━━━━━━━━━━━━━━━━━━━━━━━━━━━━━\u001b[0m \u001b[32m778.9/778.9 kB\u001b[0m \u001b[31m11.3 MB/s\u001b[0m eta \u001b[36m0:00:00\u001b[0m\n",
            "\u001b[?25hDownloading flask-3.0.3-py3-none-any.whl (101 kB)\n",
            "\u001b[2K   \u001b[90m━━━━━━━━━━━━━━━━━━━━━━━━━━━━━━━━━━━━━━━━\u001b[0m \u001b[32m101.7/101.7 kB\u001b[0m \u001b[31m4.7 MB/s\u001b[0m eta \u001b[36m0:00:00\u001b[0m\n",
            "\u001b[?25hDownloading jedi-0.19.2-py2.py3-none-any.whl (1.6 MB)\n",
            "\u001b[2K   \u001b[90m━━━━━━━━━━━━━━━━━━━━━━━━━━━━━━━━━━━━━━━━\u001b[0m \u001b[32m1.6/1.6 MB\u001b[0m \u001b[31m13.6 MB/s\u001b[0m eta \u001b[36m0:00:00\u001b[0m\n",
            "\u001b[?25hDownloading werkzeug-3.0.6-py3-none-any.whl (227 kB)\n",
            "\u001b[2K   \u001b[90m━━━━━━━━━━━━━━━━━━━━━━━━━━━━━━━━━━━━━━━━\u001b[0m \u001b[32m228.0/228.0 kB\u001b[0m \u001b[31m5.0 MB/s\u001b[0m eta \u001b[36m0:00:00\u001b[0m\n",
            "\u001b[?25hDownloading multiprocess-0.70.17-py311-none-any.whl (144 kB)\n",
            "\u001b[2K   \u001b[90m━━━━━━━━━━━━━━━━━━━━━━━━━━━━━━━━━━━━━━━━\u001b[0m \u001b[32m144.3/144.3 kB\u001b[0m \u001b[31m5.2 MB/s\u001b[0m eta \u001b[36m0:00:00\u001b[0m\n",
            "\u001b[?25hDownloading retrying-1.3.4-py3-none-any.whl (11 kB)\n",
            "Downloading zope.event-5.0-py3-none-any.whl (6.8 kB)\n",
            "Downloading zope.interface-7.2-cp311-cp311-manylinux_2_5_x86_64.manylinux1_x86_64.manylinux_2_17_x86_64.manylinux2014_x86_64.whl (259 kB)\n",
            "\u001b[2K   \u001b[90m━━━━━━━━━━━━━━━━━━━━━━━━━━━━━━━━━━━━━━━━\u001b[0m \u001b[32m259.8/259.8 kB\u001b[0m \u001b[31m13.7 MB/s\u001b[0m eta \u001b[36m0:00:00\u001b[0m\n",
            "\u001b[?25hBuilding wheels for collected packages: dash-cytoscape\n",
            "  Building wheel for dash-cytoscape (setup.py) ... \u001b[?25l\u001b[?25hdone\n",
            "  Created wheel for dash-cytoscape: filename=dash_cytoscape-1.0.2-py3-none-any.whl size=4010717 sha256=28234df8432d334aee41d9ca403385bc420ea97c9de7a8d6258edd30e2479c2e\n",
            "  Stored in directory: /root/.cache/pip/wheels/99/b1/ab/6c999ab288b4849d372e23c0a8f6ece7edb7ffeb8c97959ab0\n",
            "Successfully built dash-cytoscape\n",
            "Installing collected packages: dash-table, dash-html-components, dash-core-components, zope.interface, zope.event, Werkzeug, retrying, jedi, dill, aplr, multiprocess, gevent, Flask, SALib, interpret-core, dash, dash-cytoscape, interpret\n",
            "  Attempting uninstall: Werkzeug\n",
            "    Found existing installation: Werkzeug 3.1.3\n",
            "    Uninstalling Werkzeug-3.1.3:\n",
            "      Successfully uninstalled Werkzeug-3.1.3\n",
            "  Attempting uninstall: Flask\n",
            "    Found existing installation: Flask 3.1.0\n",
            "    Uninstalling Flask-3.1.0:\n",
            "      Successfully uninstalled Flask-3.1.0\n",
            "Successfully installed Flask-3.0.3 SALib-1.5.1 Werkzeug-3.0.6 aplr-10.8.0 dash-2.18.2 dash-core-components-2.0.0 dash-cytoscape-1.0.2 dash-html-components-2.0.0 dash-table-5.0.0 dill-0.3.9 gevent-24.11.1 interpret-0.6.10 interpret-core-0.6.10 jedi-0.19.2 multiprocess-0.70.17 retrying-1.3.4 zope.event-5.0 zope.interface-7.2\n"
          ]
        }
      ],
      "source": [
        "!pip install interpret"
      ]
    },
    {
      "cell_type": "code",
      "execution_count": 2,
      "id": "4baedf75",
      "metadata": {
        "id": "4baedf75",
        "scrolled": true
      },
      "outputs": [],
      "source": [
        "import datetime                                               # timestamp for submission file\n",
        "from interpret.glassbox import ExplainableBoostingClassifier  # interpret ebm class\n",
        "from interpret.perf import ROC                                # ROC measure for ebm\n",
        "import itertools                                              # for cartesian product of parameters\n",
        "import matplotlib.pyplot as plt                               # for plots\n",
        "import numpy as np                                            # for basic array manipulation\n",
        "import pandas as pd                                           # for dataframe manipulation\n",
        "import random                                                 # to sample from lists\n",
        "from sklearn.metrics import accuracy_score, f1_score          # for selecting model cutoffs\n",
        "import time                                                   # for timers\n",
        "\n",
        "# set numpy random seed for better reproducibility\n",
        "SEED = 12345\n",
        "np.random.seed(SEED)\n",
        "\n",
        "# set number of threads\n",
        "NTHREAD = 4"
      ]
    },
    {
      "cell_type": "markdown",
      "id": "71a7b83c",
      "metadata": {
        "id": "71a7b83c"
      },
      "source": [
        "### Define utility functions"
      ]
    },
    {
      "cell_type": "markdown",
      "id": "b57123eb",
      "metadata": {
        "id": "b57123eb"
      },
      "source": [
        "#### Utility function to calculate confusion matrices by demographic group"
      ]
    },
    {
      "cell_type": "code",
      "execution_count": 3,
      "id": "8f26980c",
      "metadata": {
        "id": "8f26980c"
      },
      "outputs": [],
      "source": [
        "def get_confusion_matrix(frame, y, yhat, by=None, level=None, cutoff=0.5, verbose=True):\n",
        "\n",
        "    \"\"\" Creates confusion matrix from pandas dataframe of y and yhat values, can be sliced\n",
        "        by a variable and level.\n",
        "\n",
        "        :param frame: Pandas dataframe of actual (y) and predicted (yhat) values.\n",
        "        :param y: Name of actual value column.\n",
        "        :param yhat: Name of predicted value column.\n",
        "        :param by: By variable to slice frame before creating confusion matrix, default None.\n",
        "        :param level: Value of by variable to slice frame before creating confusion matrix, default None.\n",
        "        :param cutoff: Cutoff threshold for confusion matrix, default 0.5.\n",
        "        :param verbose: Whether to print confusion matrix titles, default True.\n",
        "        :return: Confusion matrix as pandas dataframe.\n",
        "\n",
        "    \"\"\"\n",
        "\n",
        "    # determine levels of target (y) variable\n",
        "    # sort for consistency\n",
        "    level_list = list(frame[y].unique())\n",
        "    level_list.sort(reverse=True)\n",
        "\n",
        "    # init confusion matrix\n",
        "    cm_frame = pd.DataFrame(columns=['actual: ' +  str(i) for i in level_list],\n",
        "                            index=['predicted: ' + str(i) for i in level_list])\n",
        "\n",
        "    # don't destroy original data\n",
        "    frame_ = frame.copy(deep=True)\n",
        "\n",
        "    # convert numeric predictions to binary decisions using cutoff\n",
        "    dname = 'd_' + str(y)\n",
        "    frame_[dname] = np.where(frame_[yhat] > cutoff , 1, 0)\n",
        "\n",
        "    # slice frame\n",
        "    if (by is not None) & (level is not None):\n",
        "        frame_ = frame_[frame[by] == level]\n",
        "\n",
        "    # calculate size of each confusion matrix value\n",
        "    for i, lev_i in enumerate(level_list):\n",
        "        for j, lev_j in enumerate(level_list):\n",
        "            cm_frame.iat[j, i] = frame_[(frame_[y] == lev_i) & (frame_[dname] == lev_j)].shape[0]\n",
        "            # i, j vs. j, i nasty little bug ... updated 8/30/19\n",
        "\n",
        "    # output results\n",
        "    if verbose:\n",
        "        if by is None:\n",
        "            print('Confusion matrix:')\n",
        "        else:\n",
        "            print('Confusion matrix by ' + by + '=' + str(level))\n",
        "\n",
        "    return cm_frame"
      ]
    },
    {
      "cell_type": "markdown",
      "id": "cfe58fec",
      "metadata": {
        "id": "cfe58fec"
      },
      "source": [
        "#### Utility function to calculate AIR"
      ]
    },
    {
      "cell_type": "code",
      "execution_count": 4,
      "id": "d85757d4",
      "metadata": {
        "id": "d85757d4"
      },
      "outputs": [],
      "source": [
        "def air(cm_dict, reference_key, protected_key, verbose=True):\n",
        "\n",
        "    \"\"\" Calculates the adverse impact ratio as a quotient between protected and\n",
        "        reference group acceptance rates: protected_prop/reference_prop.\n",
        "        Optionally prints intermediate values. ASSUMES 0 IS \"POSITIVE\" OUTCOME!\n",
        "\n",
        "        :param cm_dict: Dictionary of demographic group confusion matrices.\n",
        "        :param reference_key: Name of reference group in cm_dict as a string.\n",
        "        :param protected_key: Name of protected group in cm_dict as a string.\n",
        "        :param verbose: Whether to print intermediate acceptance rates, default True.\n",
        "        :return: AIR.\n",
        "\n",
        "    \"\"\"\n",
        "\n",
        "    eps = 1e-20 # numeric stability and divide by 0 protection\n",
        "\n",
        "    # reference group summary\n",
        "    reference_accepted = float(cm_dict[reference_key].iat[1,0] + cm_dict[reference_key].iat[1,1]) # predicted 0's\n",
        "    reference_total = float(cm_dict[reference_key].sum().sum())\n",
        "    reference_prop = reference_accepted/reference_total\n",
        "    if verbose:\n",
        "        print(reference_key.title() + ' proportion accepted: %.3f' % reference_prop)\n",
        "\n",
        "    # protected group summary\n",
        "    protected_accepted = float(cm_dict[protected_key].iat[1,0] + cm_dict[protected_key].iat[1,1]) # predicted 0's\n",
        "    protected_total = float(cm_dict[protected_key].sum().sum())\n",
        "    protected_prop = protected_accepted/protected_total\n",
        "    if verbose:\n",
        "        print(protected_key.title() + ' proportion accepted: %.3f' % protected_prop)\n",
        "\n",
        "    # return adverse impact ratio\n",
        "    if np.isclose(protected_accepted, 0.0):\n",
        "        return np.nan\n",
        "    else:\n",
        "        return ((protected_prop + eps)/(reference_prop + eps))\n"
      ]
    },
    {
      "cell_type": "markdown",
      "id": "7dc9e851",
      "metadata": {
        "id": "7dc9e851"
      },
      "source": [
        "#### Utility function to select probability cutoff by F1"
      ]
    },
    {
      "cell_type": "code",
      "execution_count": 5,
      "id": "7e6e5033",
      "metadata": {
        "id": "7e6e5033"
      },
      "outputs": [],
      "source": [
        "def get_max_f1_frame(frame, y, yhat, res=0.01, air_reference=None, air_protected=None, verbose=False):\n",
        "\n",
        "    \"\"\" Utility function for finding max. F1.\n",
        "        Coupled to get_confusion_matrix() and air().\n",
        "        Assumes 1 is the marker for class membership.\n",
        "\n",
        "        :param frame: Pandas dataframe of actual (y) and predicted (yhat) values.\n",
        "        :param y: Known y values.\n",
        "        :param yhat: Model scores.\n",
        "        :param res: Resolution over which to search for max. F1, default 0.01.\n",
        "        :param air_reference: Reference group for AIR calculation, optional.\n",
        "        :param air_protected: Protected group for AIR calculation, optional.\n",
        "        :return: Pandas DataFrame of cutoffs to select from.\n",
        "\n",
        "    \"\"\"\n",
        "\n",
        "    do_air = all(v is not None for v in [air_reference, air_protected])\n",
        "\n",
        "    # init frame to store f1 at different cutoffs\n",
        "    if do_air:\n",
        "        columns = ['cut', 'f1', 'acc', 'air']\n",
        "    else:\n",
        "        columns = ['cut', 'f1', 'acc']\n",
        "    f1_frame = pd.DataFrame(columns=['cut', 'f1', 'acc'])\n",
        "\n",
        "    # copy known y and score values into a temporary frame\n",
        "    temp_df = frame[[y, yhat]].copy(deep=True)\n",
        "\n",
        "    # find f1 at different cutoffs and store in acc_frame\n",
        "    for i, cut in enumerate(np.arange(0, 1 + res, res)):\n",
        "        temp_df['decision'] = np.where(temp_df.iloc[:, 1] > cut, 1, 0)\n",
        "        f1 = f1_score(temp_df.iloc[:, 0], temp_df['decision'])\n",
        "        acc = accuracy_score(temp_df.iloc[:, 0], temp_df['decision'])\n",
        "        row_dict = {'cut': cut, 'f1': f1, 'acc': acc}\n",
        "        if do_air:\n",
        "            # conditionally calculate AIR\n",
        "            cm_ref = get_confusion_matrix(frame, y, yhat, by=air_reference, level=1, cutoff=cut, verbose=verbose)\n",
        "            cm_pro = get_confusion_matrix(frame, y, yhat, by=air_protected, level=1, cutoff=cut, verbose=verbose)\n",
        "            air_ = air({air_reference: cm_ref, air_protected: cm_pro}, air_reference, air_protected, verbose=verbose)\n",
        "            row_dict['air'] = air_\n",
        "\n",
        "        f1_frame = pd.concat([f1_frame, pd.DataFrame(row_dict, index=[i])], axis=0)\n",
        "\n",
        "    del temp_df\n",
        "\n",
        "    return f1_frame"
      ]
    },
    {
      "cell_type": "markdown",
      "id": "223b7489",
      "metadata": {
        "id": "223b7489"
      },
      "source": [
        "#### Utility function for random grid search"
      ]
    },
    {
      "cell_type": "code",
      "execution_count": 6,
      "id": "9da92af1",
      "metadata": {
        "id": "9da92af1"
      },
      "outputs": [],
      "source": [
        "def ebm_grid(train, valid, x_names, y_name, gs_params=None, n_models=None, early_stopping_rounds=None, seed=None,\n",
        "             air_reference=None, air_protected=None, air_cut=None, verbose=False):\n",
        "\n",
        "    \"\"\" Performs a random grid search over n_models and gs_params.\n",
        "        Optionally considers random feature sets and AIR.\n",
        "        Coupled to get_confusion_matrix() and air().\n",
        "\n",
        "    :param train: Training data as Pandas DataFrame.\n",
        "    :param valid: Validation data as Pandas DataFrame.\n",
        "    :param x_names: Names of input features.\n",
        "    :param y_name: Name of target feature.\n",
        "    :param gs_params: Dictionary of lists of potential EBM parameters over which to search.\n",
        "    :param n_models: Number of random models to evaluate.\n",
        "    :param early_stopping_rounds: EBM early stopping rounds.\n",
        "    :param seed: Random seed for better interpretability.\n",
        "    :param air_reference: Reference group for AIR calculation, optional.\n",
        "    :param air_protected: Protected group for AIR calculation, optional.\n",
        "    :param air_cut: Cutoff for AIR calculation, optional.\n",
        "    :param verbose: Whether to print intermediate acceptance rates, default False.\n",
        "    :return: Tuple: (Best EBM model, Pandas DataFrame of models to select from)\n",
        "\n",
        "    \"\"\"\n",
        "\n",
        "    # init returned frame\n",
        "    do_air = all(v is not None for v in [air_reference, air_protected])\n",
        "    if do_air:\n",
        "        columns = list(gs_params.keys()) + ['features', 'auc', 'air']\n",
        "    else:\n",
        "        columns = list(gs_params.keys()) + ['auc']\n",
        "    ebm_grid_frame = pd.DataFrame(columns=columns)\n",
        "\n",
        "    # cartesian product of gs_params\n",
        "    keys, values = zip(*gs_params.items())\n",
        "    experiments = [dict(zip(keys, v)) for v in itertools.product(*values)]\n",
        "\n",
        "    # preserve exact reproducibility for this function\n",
        "    np.random.seed(SEED)\n",
        "\n",
        "    # select randomly from cartesian product space\n",
        "    selected_experiments = np.random.choice(len(experiments), n_models)\n",
        "\n",
        "    # set global params for seed, etc.\n",
        "    params = {'n_jobs': NTHREAD,\n",
        "              'early_stopping_rounds': early_stopping_rounds,\n",
        "              'random_state': SEED}\n",
        "\n",
        "    # init grid search loop\n",
        "    best_candidate = None\n",
        "    best_score = 0\n",
        "\n",
        "    # grid search loop\n",
        "    for i, exp in enumerate(selected_experiments):\n",
        "\n",
        "        params.update(experiments[exp])  # override global params with current grid run params\n",
        "\n",
        "        print('Grid search run %d/%d:' % (int(i + 1), int(n_models)))\n",
        "        print('Training with parameters:', params)\n",
        "\n",
        "        # train\n",
        "        ebm = ExplainableBoostingClassifier(**params)\n",
        "\n",
        "        # conditionally select random features\n",
        "        features = x_names\n",
        "        if do_air:\n",
        "            n_features = random.randrange(len(x_names)) + 1\n",
        "            features = random.sample(x_names, n_features)\n",
        "        candidate = ebm.fit(train[features], train[y_name])\n",
        "\n",
        "        # calculate AUC\n",
        "        ebm_perf = ROC(ebm.predict_proba).explain_perf(valid[features], valid[y_name])\n",
        "        candidate_best_score = ebm_perf._internal_obj['overall']['auc']\n",
        "\n",
        "        # compose values to add to ebm_grid_frame\n",
        "        row_dict = params.copy()\n",
        "        row_dict['auc'] = candidate_best_score\n",
        "        if do_air:\n",
        "            # collect random feature set\n",
        "            row_dict['features'] = features\n",
        "            # conditionally calculate AIR\n",
        "            valid_phat = valid.copy(deep=True)\n",
        "            valid_phat['phat'] = candidate.predict_proba(valid[features])[:, 1]\n",
        "            cm_ref = get_confusion_matrix(valid_phat, y_name, 'phat', by=air_reference, level=1, cutoff=air_cut, verbose=verbose)\n",
        "            cm_pro = get_confusion_matrix(valid_phat, y_name, 'phat', by=air_protected, level=1, cutoff=air_cut, verbose=verbose)\n",
        "            air_ = air({air_reference: cm_ref, air_protected: cm_pro}, air_reference, air_protected, verbose=verbose)\n",
        "            row_dict['air'] = air_\n",
        "            row_dict['features'] = ', '.join(row_dict['features'])\n",
        "            del valid_phat\n",
        "\n",
        "        # append run to ebm_grid_frame\n",
        "        ebm_grid_frame = pd.concat([ebm_grid_frame, pd.DataFrame(row_dict, index=[i])], axis=0)\n",
        "\n",
        "        # determine if current model is better than previous best\n",
        "        if candidate_best_score > best_score:\n",
        "            best_score = candidate_best_score\n",
        "            best_ebm = candidate\n",
        "            print('Grid search new best score discovered at iteration %d/%d: %.4f.' %\n",
        "                             (int(i + 1), int(n_models), candidate_best_score))\n",
        "\n",
        "        print('---------- ----------')\n",
        "\n",
        "        del row_dict\n",
        "        del ebm\n",
        "\n",
        "    return best_ebm, ebm_grid_frame"
      ]
    },
    {
      "cell_type": "markdown",
      "id": "152e8474",
      "metadata": {
        "id": "152e8474"
      },
      "source": [
        "#### Start global timer"
      ]
    },
    {
      "cell_type": "code",
      "execution_count": 7,
      "id": "110ae3e4",
      "metadata": {
        "id": "110ae3e4"
      },
      "outputs": [],
      "source": [
        "tic = time.time()"
      ]
    },
    {
      "cell_type": "markdown",
      "id": "e36c81fd",
      "metadata": {
        "id": "e36c81fd"
      },
      "source": [
        "#### Import data"
      ]
    },
    {
      "cell_type": "code",
      "execution_count": 8,
      "id": "WCX01dJv1ao4",
      "metadata": {
        "colab": {
          "base_uri": "https://localhost:8080/"
        },
        "id": "WCX01dJv1ao4",
        "outputId": "d85077d8-bf30-4675-ae50-78400f525689"
      },
      "outputs": [
        {
          "output_type": "stream",
          "name": "stdout",
          "text": [
            "Mounted at /content/drive/\n",
            "/content/drive/MyDrive/DNSC_6330_Software/Lecture_01\n",
            " 01_Explainable_AI_Models.ipynb             hmda_test_preprocessed.csv\n",
            " Adi_rem_ebm_2025_04_06_09_05_19.csv        hmda_train_preprocessed.csv\n",
            " Adi_rem_ebm_main_2025_04_06_09_43_39.csv   \u001b[0m\u001b[01;34mmli-resources\u001b[0m/\n",
            " assign_1_template.ipynb                    ph_best_ebm_2025_03_27_06_08_34.csv\n",
            " assign_2_template.ipynb                    ph_best_glm_2025_03_27_03_39_09.csv\n",
            " Assign_3_template1.ipynb                   ph_best_mxgb_2025_03_27_03_58_46.csv\n",
            " assign_3_template2.ipynb                   ph_rem_ebm_2025_04_06_09_04_30.csv\n",
            " assign_3_template.ipynb                    yourname_ebm.csv\n",
            " assignment_2.pdf                           yourname_glm.csv\n",
            " assignment_3.pdf                           yourname_xgb.csv\n",
            "'Copy of assign_1_template.ipynb'\n"
          ]
        }
      ],
      "source": [
        "from google.colab import drive\n",
        "drive.mount('/content/drive/', force_remount=True)\n",
        "# may need to be updated to location on your drive\n",
        "%cd /content/drive/MyDrive/DNSC_6330_Software/Lecture_01/\n",
        "%ls"
      ]
    },
    {
      "cell_type": "code",
      "execution_count": 9,
      "id": "36898e3f",
      "metadata": {
        "id": "36898e3f"
      },
      "outputs": [],
      "source": [
        "data = pd.read_csv('../Lecture_01/hmda_train_preprocessed.csv')\n",
        "test = pd.read_csv('../Lecture_01/hmda_test_preprocessed.csv')"
      ]
    },
    {
      "cell_type": "markdown",
      "id": "02f780ca",
      "metadata": {
        "id": "02f780ca"
      },
      "source": [
        "#### Assign basic modeling roles"
      ]
    },
    {
      "cell_type": "code",
      "execution_count": 10,
      "id": "374364cd",
      "metadata": {
        "id": "374364cd"
      },
      "outputs": [],
      "source": [
        "y_name = 'high_priced'\n",
        "x_names = ['term_360', 'conforming', 'debt_to_income_ratio_missing', 'loan_amount_std', 'loan_to_value_ratio_std', 'no_intro_rate_period_std',\n",
        "           'intro_rate_period_std', 'property_value_std', 'income_std', 'debt_to_income_ratio_std']"
      ]
    },
    {
      "cell_type": "markdown",
      "id": "2bd91ac7",
      "metadata": {
        "id": "2bd91ac7"
      },
      "source": [
        "## Fit interpretable model"
      ]
    },
    {
      "cell_type": "markdown",
      "id": "b63c7465",
      "metadata": {
        "id": "b63c7465"
      },
      "source": [
        "#### Split data into train and validation partitions"
      ]
    },
    {
      "cell_type": "code",
      "execution_count": 11,
      "id": "d82faabc",
      "metadata": {
        "colab": {
          "base_uri": "https://localhost:8080/"
        },
        "id": "d82faabc",
        "outputId": "014d1348-53c3-4d33-a78e-7c0f4eb141dd"
      },
      "outputs": [
        {
          "output_type": "stream",
          "name": "stdout",
          "text": [
            "Train data rows = 112253, columns = 23\n",
            "Validation data rows = 48085, columns = 23\n"
          ]
        }
      ],
      "source": [
        "np.random.seed(SEED) # preserve exact reproducibility for this cell\n",
        "\n",
        "split_ratio = 0.7 # 70%/30% train/test split\n",
        "\n",
        "# execute split\n",
        "split = np.random.rand(len(data)) < split_ratio\n",
        "train = data[split]\n",
        "valid = data[~split]\n",
        "\n",
        "# summarize split\n",
        "print('Train data rows = %d, columns = %d' % (train.shape[0], train.shape[1]))\n",
        "print('Validation data rows = %d, columns = %d' % (valid.shape[0], valid.shape[1]))\n",
        "\n",
        "# benchmark - Train data rows = 112253, columns = 23\n",
        "# benchmark - Validation data rows = 48085, columns = 23"
      ]
    },
    {
      "cell_type": "markdown",
      "id": "348b7fb0",
      "metadata": {
        "id": "348b7fb0"
      },
      "source": [
        "### Explainable Boosting Machine"
      ]
    },
    {
      "cell_type": "markdown",
      "id": "2aee422c",
      "metadata": {
        "id": "2aee422c"
      },
      "source": [
        "#### Fit EBM with random grid search"
      ]
    },
    {
      "cell_type": "code",
      "execution_count": 12,
      "id": "f8e7edc7",
      "metadata": {
        "colab": {
          "base_uri": "https://localhost:8080/"
        },
        "id": "f8e7edc7",
        "outputId": "2a8149f1-22af-4956-ec59-767f74d5f638",
        "scrolled": true
      },
      "outputs": [
        {
          "output_type": "stream",
          "name": "stdout",
          "text": [
            "Grid search run 1/30:\n",
            "Training with parameters: {'n_jobs': 4, 'early_stopping_rounds': 100, 'random_state': 12345, 'max_bins': 256, 'interactions': 5, 'outer_bags': 4, 'learning_rate': 0.1}\n"
          ]
        },
        {
          "output_type": "stream",
          "name": "stderr",
          "text": [
            "<ipython-input-6-0a10eb72a23e>:90: FutureWarning: The behavior of DataFrame concatenation with empty or all-NA entries is deprecated. In a future version, this will no longer exclude empty or all-NA columns when determining the result dtypes. To retain the old behavior, exclude the relevant entries before the concat operation.\n",
            "  ebm_grid_frame = pd.concat([ebm_grid_frame, pd.DataFrame(row_dict, index=[i])], axis=0)\n"
          ]
        },
        {
          "output_type": "stream",
          "name": "stdout",
          "text": [
            "Grid search new best score discovered at iteration 1/30: 0.8209.\n",
            "---------- ----------\n",
            "Grid search run 2/30:\n",
            "Training with parameters: {'n_jobs': 4, 'early_stopping_rounds': 100, 'random_state': 12345, 'max_bins': 128, 'interactions': 5, 'outer_bags': 4, 'learning_rate': 0.05}\n",
            "---------- ----------\n",
            "Grid search run 3/30:\n",
            "Training with parameters: {'n_jobs': 4, 'early_stopping_rounds': 100, 'random_state': 12345, 'max_bins': 256, 'interactions': 10, 'outer_bags': 4, 'learning_rate': 0.01}\n",
            "Grid search new best score discovered at iteration 3/30: 0.8229.\n",
            "---------- ----------\n",
            "Grid search run 4/30:\n",
            "Training with parameters: {'n_jobs': 4, 'early_stopping_rounds': 100, 'random_state': 12345, 'max_bins': 256, 'interactions': 10, 'outer_bags': 8, 'learning_rate': 0.1}\n",
            "Grid search new best score discovered at iteration 4/30: 0.8236.\n",
            "---------- ----------\n",
            "Grid search run 5/30:\n",
            "Training with parameters: {'n_jobs': 4, 'early_stopping_rounds': 100, 'random_state': 12345, 'max_bins': 256, 'interactions': 5, 'outer_bags': 16, 'learning_rate': 0.05}\n",
            "---------- ----------\n",
            "Grid search run 6/30:\n",
            "Training with parameters: {'n_jobs': 4, 'early_stopping_rounds': 100, 'random_state': 12345, 'max_bins': 256, 'interactions': 5, 'outer_bags': 4, 'learning_rate': 0.1}\n",
            "---------- ----------\n",
            "Grid search run 7/30:\n",
            "Training with parameters: {'n_jobs': 4, 'early_stopping_rounds': 100, 'random_state': 12345, 'max_bins': 128, 'interactions': 5, 'outer_bags': 4, 'learning_rate': 0.05}\n",
            "---------- ----------\n",
            "Grid search run 8/30:\n",
            "Training with parameters: {'n_jobs': 4, 'early_stopping_rounds': 100, 'random_state': 12345, 'max_bins': 512, 'interactions': 5, 'outer_bags': 8, 'learning_rate': 0.1}\n",
            "---------- ----------\n",
            "Grid search run 9/30:\n",
            "Training with parameters: {'n_jobs': 4, 'early_stopping_rounds': 100, 'random_state': 12345, 'max_bins': 128, 'interactions': 10, 'outer_bags': 8, 'learning_rate': 0.1}\n",
            "Grid search new best score discovered at iteration 9/30: 0.8240.\n",
            "---------- ----------\n",
            "Grid search run 10/30:\n",
            "Training with parameters: {'n_jobs': 4, 'early_stopping_rounds': 100, 'random_state': 12345, 'max_bins': 512, 'interactions': 20, 'outer_bags': 16, 'learning_rate': 0.1}\n",
            "Grid search new best score discovered at iteration 10/30: 0.8255.\n",
            "---------- ----------\n",
            "Grid search run 11/30:\n",
            "Training with parameters: {'n_jobs': 4, 'early_stopping_rounds': 100, 'random_state': 12345, 'max_bins': 512, 'interactions': 20, 'outer_bags': 4, 'learning_rate': 0.05}\n",
            "Grid search new best score discovered at iteration 11/30: 0.8256.\n",
            "---------- ----------\n",
            "Grid search run 12/30:\n",
            "Training with parameters: {'n_jobs': 4, 'early_stopping_rounds': 100, 'random_state': 12345, 'max_bins': 128, 'interactions': 10, 'outer_bags': 4, 'learning_rate': 0.1}\n",
            "---------- ----------\n",
            "Grid search run 13/30:\n",
            "Training with parameters: {'n_jobs': 4, 'early_stopping_rounds': 100, 'random_state': 12345, 'max_bins': 512, 'interactions': 20, 'outer_bags': 8, 'learning_rate': 0.1}\n",
            "---------- ----------\n",
            "Grid search run 14/30:\n",
            "Training with parameters: {'n_jobs': 4, 'early_stopping_rounds': 100, 'random_state': 12345, 'max_bins': 128, 'interactions': 10, 'outer_bags': 4, 'learning_rate': 0.05}\n",
            "---------- ----------\n",
            "Grid search run 15/30:\n",
            "Training with parameters: {'n_jobs': 4, 'early_stopping_rounds': 100, 'random_state': 12345, 'max_bins': 256, 'interactions': 10, 'outer_bags': 4, 'learning_rate': 0.1}\n",
            "---------- ----------\n",
            "Grid search run 16/30:\n",
            "Training with parameters: {'n_jobs': 4, 'early_stopping_rounds': 100, 'random_state': 12345, 'max_bins': 128, 'interactions': 5, 'outer_bags': 16, 'learning_rate': 0.05}\n",
            "---------- ----------\n",
            "Grid search run 17/30:\n",
            "Training with parameters: {'n_jobs': 4, 'early_stopping_rounds': 100, 'random_state': 12345, 'max_bins': 256, 'interactions': 10, 'outer_bags': 16, 'learning_rate': 0.05}\n",
            "---------- ----------\n",
            "Grid search run 18/30:\n",
            "Training with parameters: {'n_jobs': 4, 'early_stopping_rounds': 100, 'random_state': 12345, 'max_bins': 128, 'interactions': 20, 'outer_bags': 8, 'learning_rate': 0.1}\n",
            "---------- ----------\n",
            "Grid search run 19/30:\n",
            "Training with parameters: {'n_jobs': 4, 'early_stopping_rounds': 100, 'random_state': 12345, 'max_bins': 256, 'interactions': 5, 'outer_bags': 4, 'learning_rate': 0.1}\n",
            "---------- ----------\n",
            "Grid search run 20/30:\n",
            "Training with parameters: {'n_jobs': 4, 'early_stopping_rounds': 100, 'random_state': 12345, 'max_bins': 512, 'interactions': 5, 'outer_bags': 4, 'learning_rate': 0.1}\n",
            "---------- ----------\n",
            "Grid search run 21/30:\n",
            "Training with parameters: {'n_jobs': 4, 'early_stopping_rounds': 100, 'random_state': 12345, 'max_bins': 512, 'interactions': 5, 'outer_bags': 4, 'learning_rate': 0.05}\n",
            "---------- ----------\n",
            "Grid search run 22/30:\n",
            "Training with parameters: {'n_jobs': 4, 'early_stopping_rounds': 100, 'random_state': 12345, 'max_bins': 256, 'interactions': 5, 'outer_bags': 8, 'learning_rate': 0.05}\n",
            "---------- ----------\n",
            "Grid search run 23/30:\n",
            "Training with parameters: {'n_jobs': 4, 'early_stopping_rounds': 100, 'random_state': 12345, 'max_bins': 512, 'interactions': 5, 'outer_bags': 16, 'learning_rate': 0.05}\n",
            "---------- ----------\n",
            "Grid search run 24/30:\n",
            "Training with parameters: {'n_jobs': 4, 'early_stopping_rounds': 100, 'random_state': 12345, 'max_bins': 256, 'interactions': 10, 'outer_bags': 4, 'learning_rate': 0.01}\n",
            "---------- ----------\n",
            "Grid search run 25/30:\n",
            "Training with parameters: {'n_jobs': 4, 'early_stopping_rounds': 100, 'random_state': 12345, 'max_bins': 512, 'interactions': 10, 'outer_bags': 4, 'learning_rate': 0.05}\n",
            "---------- ----------\n",
            "Grid search run 26/30:\n",
            "Training with parameters: {'n_jobs': 4, 'early_stopping_rounds': 100, 'random_state': 12345, 'max_bins': 128, 'interactions': 5, 'outer_bags': 8, 'learning_rate': 0.01}\n",
            "---------- ----------\n",
            "Grid search run 27/30:\n",
            "Training with parameters: {'n_jobs': 4, 'early_stopping_rounds': 100, 'random_state': 12345, 'max_bins': 128, 'interactions': 5, 'outer_bags': 8, 'learning_rate': 0.1}\n",
            "---------- ----------\n",
            "Grid search run 28/30:\n",
            "Training with parameters: {'n_jobs': 4, 'early_stopping_rounds': 100, 'random_state': 12345, 'max_bins': 128, 'interactions': 10, 'outer_bags': 16, 'learning_rate': 0.01}\n",
            "---------- ----------\n",
            "Grid search run 29/30:\n",
            "Training with parameters: {'n_jobs': 4, 'early_stopping_rounds': 100, 'random_state': 12345, 'max_bins': 512, 'interactions': 20, 'outer_bags': 8, 'learning_rate': 0.01}\n",
            "Grid search new best score discovered at iteration 29/30: 0.8258.\n",
            "---------- ----------\n",
            "Grid search run 30/30:\n",
            "Training with parameters: {'n_jobs': 4, 'early_stopping_rounds': 100, 'random_state': 12345, 'max_bins': 128, 'interactions': 10, 'outer_bags': 8, 'learning_rate': 0.1}\n",
            "---------- ----------\n",
            "EBM training completed in 3560.75 s.\n"
          ]
        }
      ],
      "source": [
        "from interpret.glassbox import ExplainableBoostingClassifier\n",
        "import time\n",
        "\n",
        "# Define the EBM with best parameters\n",
        "gs_params =  {\n",
        "    'max_bins': [128, 256, 512],\n",
        "'interactions': [5, 10, 20],\n",
        "'outer_bags': [4, 8, 16],\n",
        "'learning_rate': [0.01, 0.05, 0.1]\n",
        "}\n",
        "\n",
        "# start local timer\n",
        "ebm_tic = time.time()\n",
        "\n",
        "# EBM grid search\n",
        "best_ebm, ebm_grid_frame = ebm_grid(train, valid, x_names, y_name, gs_params = gs_params, n_models=30,\n",
        "                                    early_stopping_rounds=100, seed=SEED)\n",
        "\n",
        "# end local timer\n",
        "ebm_toc = time.time() - ebm_tic\n",
        "print('EBM training completed in %.2f s.' % (ebm_toc))\n"
      ]
    },
    {
      "cell_type": "markdown",
      "id": "0248d5c2",
      "metadata": {
        "id": "0248d5c2"
      },
      "source": [
        "#### Basic AUC assessment"
      ]
    },
    {
      "cell_type": "code",
      "execution_count": 13,
      "id": "cd8c96fb",
      "metadata": {
        "colab": {
          "base_uri": "https://localhost:8080/"
        },
        "id": "cd8c96fb",
        "outputId": "f9e5c858-cf7e-4ba5-8b7d-04018662f2cf"
      },
      "outputs": [
        {
          "output_type": "stream",
          "name": "stdout",
          "text": [
            "Validation AUC: 0.8258.\n"
          ]
        }
      ],
      "source": [
        "best_ebm_perf = ROC(best_ebm.predict_proba).explain_perf(valid[x_names], valid[y_name])\n",
        "print('Validation AUC: %.4f.' % best_ebm_perf._internal_obj['overall']['auc'])"
      ]
    },
    {
      "cell_type": "markdown",
      "id": "e2814a0a",
      "metadata": {
        "id": "e2814a0a"
      },
      "source": [
        "#### Score validation data with model"
      ]
    },
    {
      "cell_type": "code",
      "execution_count": 14,
      "id": "5f39bae7",
      "metadata": {
        "colab": {
          "base_uri": "https://localhost:8080/",
          "height": 255
        },
        "id": "5f39bae7",
        "outputId": "d2742dfb-9d1a-4989-90ac-f88c390848e5"
      },
      "outputs": [
        {
          "output_type": "execute_result",
          "data": {
            "text/plain": [
              "   row_id  black  asian  white  amind  hipac  hispanic  non_hispanic  male  \\\n",
              "0       0    NaN    NaN    NaN    NaN    NaN       NaN           NaN   1.0   \n",
              "1       6    0.0    0.0    1.0    0.0    0.0       0.0           1.0   0.0   \n",
              "2       8    0.0    0.0    1.0    0.0    0.0       0.0           1.0   NaN   \n",
              "3      10    0.0    0.0    1.0    0.0    0.0       0.0           1.0   NaN   \n",
              "4      11    0.0    0.0    1.0    0.0    0.0       1.0           0.0   NaN   \n",
              "\n",
              "   female  ...  debt_to_income_ratio_missing  loan_amount_std  \\\n",
              "0     0.0  ...                             0        -0.514393   \n",
              "1     1.0  ...                             0        -0.426448   \n",
              "2     NaN  ...                             0         0.277109   \n",
              "3     NaN  ...                             0        -0.382476   \n",
              "4     NaN  ...                             0         0.101220   \n",
              "\n",
              "   loan_to_value_ratio_std  no_intro_rate_period_std  intro_rate_period_std  \\\n",
              "0                 0.333922                  0.244394              -0.215304   \n",
              "1                 0.355249                  0.244394              -0.215304   \n",
              "2                 0.142995                  0.244394              -0.215304   \n",
              "3                -0.240432                  0.244394              -0.215304   \n",
              "4                -0.266529                  0.244394              -0.215304   \n",
              "\n",
              "   property_value_std  income_std  debt_to_income_ratio_std  high_priced  \\\n",
              "0           -0.535932   -0.040307                  0.854601            0   \n",
              "1           -0.474263   -0.020904                  1.037419            0   \n",
              "2            0.111598   -0.019865                  0.031916            0   \n",
              "3           -0.320089   -0.028181                  0.946010            0   \n",
              "4            0.111598    0.016515                 -1.156406            0   \n",
              "\n",
              "       phat  \n",
              "0  0.163278  \n",
              "1  0.295270  \n",
              "2  0.026533  \n",
              "3  0.017402  \n",
              "4  0.004146  \n",
              "\n",
              "[5 rows x 24 columns]"
            ],
            "text/html": [
              "\n",
              "  <div id=\"df-c1ebfe4a-ee56-4515-afa4-7869210f6dd3\" class=\"colab-df-container\">\n",
              "    <div>\n",
              "<style scoped>\n",
              "    .dataframe tbody tr th:only-of-type {\n",
              "        vertical-align: middle;\n",
              "    }\n",
              "\n",
              "    .dataframe tbody tr th {\n",
              "        vertical-align: top;\n",
              "    }\n",
              "\n",
              "    .dataframe thead th {\n",
              "        text-align: right;\n",
              "    }\n",
              "</style>\n",
              "<table border=\"1\" class=\"dataframe\">\n",
              "  <thead>\n",
              "    <tr style=\"text-align: right;\">\n",
              "      <th></th>\n",
              "      <th>row_id</th>\n",
              "      <th>black</th>\n",
              "      <th>asian</th>\n",
              "      <th>white</th>\n",
              "      <th>amind</th>\n",
              "      <th>hipac</th>\n",
              "      <th>hispanic</th>\n",
              "      <th>non_hispanic</th>\n",
              "      <th>male</th>\n",
              "      <th>female</th>\n",
              "      <th>...</th>\n",
              "      <th>debt_to_income_ratio_missing</th>\n",
              "      <th>loan_amount_std</th>\n",
              "      <th>loan_to_value_ratio_std</th>\n",
              "      <th>no_intro_rate_period_std</th>\n",
              "      <th>intro_rate_period_std</th>\n",
              "      <th>property_value_std</th>\n",
              "      <th>income_std</th>\n",
              "      <th>debt_to_income_ratio_std</th>\n",
              "      <th>high_priced</th>\n",
              "      <th>phat</th>\n",
              "    </tr>\n",
              "  </thead>\n",
              "  <tbody>\n",
              "    <tr>\n",
              "      <th>0</th>\n",
              "      <td>0</td>\n",
              "      <td>NaN</td>\n",
              "      <td>NaN</td>\n",
              "      <td>NaN</td>\n",
              "      <td>NaN</td>\n",
              "      <td>NaN</td>\n",
              "      <td>NaN</td>\n",
              "      <td>NaN</td>\n",
              "      <td>1.0</td>\n",
              "      <td>0.0</td>\n",
              "      <td>...</td>\n",
              "      <td>0</td>\n",
              "      <td>-0.514393</td>\n",
              "      <td>0.333922</td>\n",
              "      <td>0.244394</td>\n",
              "      <td>-0.215304</td>\n",
              "      <td>-0.535932</td>\n",
              "      <td>-0.040307</td>\n",
              "      <td>0.854601</td>\n",
              "      <td>0</td>\n",
              "      <td>0.163278</td>\n",
              "    </tr>\n",
              "    <tr>\n",
              "      <th>1</th>\n",
              "      <td>6</td>\n",
              "      <td>0.0</td>\n",
              "      <td>0.0</td>\n",
              "      <td>1.0</td>\n",
              "      <td>0.0</td>\n",
              "      <td>0.0</td>\n",
              "      <td>0.0</td>\n",
              "      <td>1.0</td>\n",
              "      <td>0.0</td>\n",
              "      <td>1.0</td>\n",
              "      <td>...</td>\n",
              "      <td>0</td>\n",
              "      <td>-0.426448</td>\n",
              "      <td>0.355249</td>\n",
              "      <td>0.244394</td>\n",
              "      <td>-0.215304</td>\n",
              "      <td>-0.474263</td>\n",
              "      <td>-0.020904</td>\n",
              "      <td>1.037419</td>\n",
              "      <td>0</td>\n",
              "      <td>0.295270</td>\n",
              "    </tr>\n",
              "    <tr>\n",
              "      <th>2</th>\n",
              "      <td>8</td>\n",
              "      <td>0.0</td>\n",
              "      <td>0.0</td>\n",
              "      <td>1.0</td>\n",
              "      <td>0.0</td>\n",
              "      <td>0.0</td>\n",
              "      <td>0.0</td>\n",
              "      <td>1.0</td>\n",
              "      <td>NaN</td>\n",
              "      <td>NaN</td>\n",
              "      <td>...</td>\n",
              "      <td>0</td>\n",
              "      <td>0.277109</td>\n",
              "      <td>0.142995</td>\n",
              "      <td>0.244394</td>\n",
              "      <td>-0.215304</td>\n",
              "      <td>0.111598</td>\n",
              "      <td>-0.019865</td>\n",
              "      <td>0.031916</td>\n",
              "      <td>0</td>\n",
              "      <td>0.026533</td>\n",
              "    </tr>\n",
              "    <tr>\n",
              "      <th>3</th>\n",
              "      <td>10</td>\n",
              "      <td>0.0</td>\n",
              "      <td>0.0</td>\n",
              "      <td>1.0</td>\n",
              "      <td>0.0</td>\n",
              "      <td>0.0</td>\n",
              "      <td>0.0</td>\n",
              "      <td>1.0</td>\n",
              "      <td>NaN</td>\n",
              "      <td>NaN</td>\n",
              "      <td>...</td>\n",
              "      <td>0</td>\n",
              "      <td>-0.382476</td>\n",
              "      <td>-0.240432</td>\n",
              "      <td>0.244394</td>\n",
              "      <td>-0.215304</td>\n",
              "      <td>-0.320089</td>\n",
              "      <td>-0.028181</td>\n",
              "      <td>0.946010</td>\n",
              "      <td>0</td>\n",
              "      <td>0.017402</td>\n",
              "    </tr>\n",
              "    <tr>\n",
              "      <th>4</th>\n",
              "      <td>11</td>\n",
              "      <td>0.0</td>\n",
              "      <td>0.0</td>\n",
              "      <td>1.0</td>\n",
              "      <td>0.0</td>\n",
              "      <td>0.0</td>\n",
              "      <td>1.0</td>\n",
              "      <td>0.0</td>\n",
              "      <td>NaN</td>\n",
              "      <td>NaN</td>\n",
              "      <td>...</td>\n",
              "      <td>0</td>\n",
              "      <td>0.101220</td>\n",
              "      <td>-0.266529</td>\n",
              "      <td>0.244394</td>\n",
              "      <td>-0.215304</td>\n",
              "      <td>0.111598</td>\n",
              "      <td>0.016515</td>\n",
              "      <td>-1.156406</td>\n",
              "      <td>0</td>\n",
              "      <td>0.004146</td>\n",
              "    </tr>\n",
              "  </tbody>\n",
              "</table>\n",
              "<p>5 rows × 24 columns</p>\n",
              "</div>\n",
              "    <div class=\"colab-df-buttons\">\n",
              "\n",
              "  <div class=\"colab-df-container\">\n",
              "    <button class=\"colab-df-convert\" onclick=\"convertToInteractive('df-c1ebfe4a-ee56-4515-afa4-7869210f6dd3')\"\n",
              "            title=\"Convert this dataframe to an interactive table.\"\n",
              "            style=\"display:none;\">\n",
              "\n",
              "  <svg xmlns=\"http://www.w3.org/2000/svg\" height=\"24px\" viewBox=\"0 -960 960 960\">\n",
              "    <path d=\"M120-120v-720h720v720H120Zm60-500h600v-160H180v160Zm220 220h160v-160H400v160Zm0 220h160v-160H400v160ZM180-400h160v-160H180v160Zm440 0h160v-160H620v160ZM180-180h160v-160H180v160Zm440 0h160v-160H620v160Z\"/>\n",
              "  </svg>\n",
              "    </button>\n",
              "\n",
              "  <style>\n",
              "    .colab-df-container {\n",
              "      display:flex;\n",
              "      gap: 12px;\n",
              "    }\n",
              "\n",
              "    .colab-df-convert {\n",
              "      background-color: #E8F0FE;\n",
              "      border: none;\n",
              "      border-radius: 50%;\n",
              "      cursor: pointer;\n",
              "      display: none;\n",
              "      fill: #1967D2;\n",
              "      height: 32px;\n",
              "      padding: 0 0 0 0;\n",
              "      width: 32px;\n",
              "    }\n",
              "\n",
              "    .colab-df-convert:hover {\n",
              "      background-color: #E2EBFA;\n",
              "      box-shadow: 0px 1px 2px rgba(60, 64, 67, 0.3), 0px 1px 3px 1px rgba(60, 64, 67, 0.15);\n",
              "      fill: #174EA6;\n",
              "    }\n",
              "\n",
              "    .colab-df-buttons div {\n",
              "      margin-bottom: 4px;\n",
              "    }\n",
              "\n",
              "    [theme=dark] .colab-df-convert {\n",
              "      background-color: #3B4455;\n",
              "      fill: #D2E3FC;\n",
              "    }\n",
              "\n",
              "    [theme=dark] .colab-df-convert:hover {\n",
              "      background-color: #434B5C;\n",
              "      box-shadow: 0px 1px 3px 1px rgba(0, 0, 0, 0.15);\n",
              "      filter: drop-shadow(0px 1px 2px rgba(0, 0, 0, 0.3));\n",
              "      fill: #FFFFFF;\n",
              "    }\n",
              "  </style>\n",
              "\n",
              "    <script>\n",
              "      const buttonEl =\n",
              "        document.querySelector('#df-c1ebfe4a-ee56-4515-afa4-7869210f6dd3 button.colab-df-convert');\n",
              "      buttonEl.style.display =\n",
              "        google.colab.kernel.accessAllowed ? 'block' : 'none';\n",
              "\n",
              "      async function convertToInteractive(key) {\n",
              "        const element = document.querySelector('#df-c1ebfe4a-ee56-4515-afa4-7869210f6dd3');\n",
              "        const dataTable =\n",
              "          await google.colab.kernel.invokeFunction('convertToInteractive',\n",
              "                                                    [key], {});\n",
              "        if (!dataTable) return;\n",
              "\n",
              "        const docLinkHtml = 'Like what you see? Visit the ' +\n",
              "          '<a target=\"_blank\" href=https://colab.research.google.com/notebooks/data_table.ipynb>data table notebook</a>'\n",
              "          + ' to learn more about interactive tables.';\n",
              "        element.innerHTML = '';\n",
              "        dataTable['output_type'] = 'display_data';\n",
              "        await google.colab.output.renderOutput(dataTable, element);\n",
              "        const docLink = document.createElement('div');\n",
              "        docLink.innerHTML = docLinkHtml;\n",
              "        element.appendChild(docLink);\n",
              "      }\n",
              "    </script>\n",
              "  </div>\n",
              "\n",
              "\n",
              "<div id=\"df-db204376-d0e0-48bc-b82f-f4b968641669\">\n",
              "  <button class=\"colab-df-quickchart\" onclick=\"quickchart('df-db204376-d0e0-48bc-b82f-f4b968641669')\"\n",
              "            title=\"Suggest charts\"\n",
              "            style=\"display:none;\">\n",
              "\n",
              "<svg xmlns=\"http://www.w3.org/2000/svg\" height=\"24px\"viewBox=\"0 0 24 24\"\n",
              "     width=\"24px\">\n",
              "    <g>\n",
              "        <path d=\"M19 3H5c-1.1 0-2 .9-2 2v14c0 1.1.9 2 2 2h14c1.1 0 2-.9 2-2V5c0-1.1-.9-2-2-2zM9 17H7v-7h2v7zm4 0h-2V7h2v10zm4 0h-2v-4h2v4z\"/>\n",
              "    </g>\n",
              "</svg>\n",
              "  </button>\n",
              "\n",
              "<style>\n",
              "  .colab-df-quickchart {\n",
              "      --bg-color: #E8F0FE;\n",
              "      --fill-color: #1967D2;\n",
              "      --hover-bg-color: #E2EBFA;\n",
              "      --hover-fill-color: #174EA6;\n",
              "      --disabled-fill-color: #AAA;\n",
              "      --disabled-bg-color: #DDD;\n",
              "  }\n",
              "\n",
              "  [theme=dark] .colab-df-quickchart {\n",
              "      --bg-color: #3B4455;\n",
              "      --fill-color: #D2E3FC;\n",
              "      --hover-bg-color: #434B5C;\n",
              "      --hover-fill-color: #FFFFFF;\n",
              "      --disabled-bg-color: #3B4455;\n",
              "      --disabled-fill-color: #666;\n",
              "  }\n",
              "\n",
              "  .colab-df-quickchart {\n",
              "    background-color: var(--bg-color);\n",
              "    border: none;\n",
              "    border-radius: 50%;\n",
              "    cursor: pointer;\n",
              "    display: none;\n",
              "    fill: var(--fill-color);\n",
              "    height: 32px;\n",
              "    padding: 0;\n",
              "    width: 32px;\n",
              "  }\n",
              "\n",
              "  .colab-df-quickchart:hover {\n",
              "    background-color: var(--hover-bg-color);\n",
              "    box-shadow: 0 1px 2px rgba(60, 64, 67, 0.3), 0 1px 3px 1px rgba(60, 64, 67, 0.15);\n",
              "    fill: var(--button-hover-fill-color);\n",
              "  }\n",
              "\n",
              "  .colab-df-quickchart-complete:disabled,\n",
              "  .colab-df-quickchart-complete:disabled:hover {\n",
              "    background-color: var(--disabled-bg-color);\n",
              "    fill: var(--disabled-fill-color);\n",
              "    box-shadow: none;\n",
              "  }\n",
              "\n",
              "  .colab-df-spinner {\n",
              "    border: 2px solid var(--fill-color);\n",
              "    border-color: transparent;\n",
              "    border-bottom-color: var(--fill-color);\n",
              "    animation:\n",
              "      spin 1s steps(1) infinite;\n",
              "  }\n",
              "\n",
              "  @keyframes spin {\n",
              "    0% {\n",
              "      border-color: transparent;\n",
              "      border-bottom-color: var(--fill-color);\n",
              "      border-left-color: var(--fill-color);\n",
              "    }\n",
              "    20% {\n",
              "      border-color: transparent;\n",
              "      border-left-color: var(--fill-color);\n",
              "      border-top-color: var(--fill-color);\n",
              "    }\n",
              "    30% {\n",
              "      border-color: transparent;\n",
              "      border-left-color: var(--fill-color);\n",
              "      border-top-color: var(--fill-color);\n",
              "      border-right-color: var(--fill-color);\n",
              "    }\n",
              "    40% {\n",
              "      border-color: transparent;\n",
              "      border-right-color: var(--fill-color);\n",
              "      border-top-color: var(--fill-color);\n",
              "    }\n",
              "    60% {\n",
              "      border-color: transparent;\n",
              "      border-right-color: var(--fill-color);\n",
              "    }\n",
              "    80% {\n",
              "      border-color: transparent;\n",
              "      border-right-color: var(--fill-color);\n",
              "      border-bottom-color: var(--fill-color);\n",
              "    }\n",
              "    90% {\n",
              "      border-color: transparent;\n",
              "      border-bottom-color: var(--fill-color);\n",
              "    }\n",
              "  }\n",
              "</style>\n",
              "\n",
              "  <script>\n",
              "    async function quickchart(key) {\n",
              "      const quickchartButtonEl =\n",
              "        document.querySelector('#' + key + ' button');\n",
              "      quickchartButtonEl.disabled = true;  // To prevent multiple clicks.\n",
              "      quickchartButtonEl.classList.add('colab-df-spinner');\n",
              "      try {\n",
              "        const charts = await google.colab.kernel.invokeFunction(\n",
              "            'suggestCharts', [key], {});\n",
              "      } catch (error) {\n",
              "        console.error('Error during call to suggestCharts:', error);\n",
              "      }\n",
              "      quickchartButtonEl.classList.remove('colab-df-spinner');\n",
              "      quickchartButtonEl.classList.add('colab-df-quickchart-complete');\n",
              "    }\n",
              "    (() => {\n",
              "      let quickchartButtonEl =\n",
              "        document.querySelector('#df-db204376-d0e0-48bc-b82f-f4b968641669 button');\n",
              "      quickchartButtonEl.style.display =\n",
              "        google.colab.kernel.accessAllowed ? 'block' : 'none';\n",
              "    })();\n",
              "  </script>\n",
              "</div>\n",
              "\n",
              "    </div>\n",
              "  </div>\n"
            ],
            "application/vnd.google.colaboratory.intrinsic+json": {
              "type": "dataframe",
              "variable_name": "best_ebm_phat"
            }
          },
          "metadata": {},
          "execution_count": 14
        }
      ],
      "source": [
        "best_ebm_phat = pd.DataFrame(best_ebm.predict_proba(valid[x_names])[:, 1], columns=['phat'])\n",
        "best_ebm_phat = pd.concat([valid.reset_index(drop=True), best_ebm_phat], axis=1)\n",
        "best_ebm_phat.head()"
      ]
    },
    {
      "cell_type": "markdown",
      "id": "fc41221b",
      "metadata": {
        "id": "fc41221b"
      },
      "source": [
        "### Investigate Best Model (EBM) for Discrimination"
      ]
    },
    {
      "cell_type": "markdown",
      "id": "285242dd",
      "metadata": {
        "id": "285242dd"
      },
      "source": [
        "#### Find optimal cutoff based on F1\n",
        "Cutoffs are normally selected by maximizing a quality statistic or a business metric, and not by considering bias and discrimination."
      ]
    },
    {
      "cell_type": "code",
      "execution_count": 15,
      "id": "bfd35817",
      "metadata": {
        "colab": {
          "base_uri": "https://localhost:8080/"
        },
        "id": "bfd35817",
        "outputId": "62214f3f-37d9-4c31-86b1-e0587e7e5460"
      },
      "outputs": [
        {
          "output_type": "stream",
          "name": "stderr",
          "text": [
            "<ipython-input-5-27fa63c62f51>:42: FutureWarning: The behavior of DataFrame concatenation with empty or all-NA entries is deprecated. In a future version, this will no longer exclude empty or all-NA columns when determining the result dtypes. To retain the old behavior, exclude the relevant entries before the concat operation.\n",
            "  f1_frame = pd.concat([f1_frame, pd.DataFrame(row_dict, index=[i])], axis=0)\n"
          ]
        },
        {
          "output_type": "stream",
          "name": "stdout",
          "text": [
            "      cut        f1       acc\n",
            "0    0.00  0.173860  0.095206\n",
            "1    0.01  0.233071  0.382198\n",
            "2    0.02  0.262343  0.478632\n",
            "3    0.03  0.280812  0.530124\n",
            "4    0.04  0.295687  0.569034\n",
            "..    ...       ...       ...\n",
            "96   0.96  0.000000  0.904794\n",
            "97   0.97  0.000000  0.904794\n",
            "98   0.98  0.000000  0.904794\n",
            "99   0.99  0.000000  0.904794\n",
            "100  1.00  0.000000  0.904794\n",
            "\n",
            "[101 rows x 3 columns]\n",
            "\n",
            "Best EBM F1: 0.3675 achieved at cutoff: 0.20 with accuracy: 0.8142.\n"
          ]
        }
      ],
      "source": [
        "f1_frame = get_max_f1_frame(best_ebm_phat, y_name, 'phat')\n",
        "\n",
        "print(f1_frame)\n",
        "print()\n",
        "\n",
        "max_f1 = f1_frame['f1'].max()\n",
        "best_cut = f1_frame.loc[int(f1_frame['f1'].idxmax()), 'cut'] #idxmax() returns the index of the maximum value\n",
        "acc = f1_frame.loc[int(f1_frame['f1'].idxmax()), 'acc']\n",
        "\n",
        "print('Best EBM F1: %.4f achieved at cutoff: %.2f with accuracy: %.4f.' % (max_f1, best_cut, acc))"
      ]
    },
    {
      "cell_type": "markdown",
      "id": "1bfdab39",
      "metadata": {
        "id": "1bfdab39"
      },
      "source": [
        "#### Find confusion matrices for demographic groups"
      ]
    },
    {
      "cell_type": "code",
      "execution_count": 16,
      "id": "bd76cff9",
      "metadata": {
        "colab": {
          "base_uri": "https://localhost:8080/"
        },
        "id": "bd76cff9",
        "outputId": "65782e0a-6eee-45fc-d9f5-126f4b7e2871"
      },
      "outputs": [
        {
          "output_type": "stream",
          "name": "stdout",
          "text": [
            "Confusion matrix by black=1\n",
            "             actual: 1 actual: 0\n",
            "predicted: 1       417       766\n",
            "predicted: 0       247      1762\n",
            "\n",
            "Confusion matrix by asian=1\n",
            "             actual: 1 actual: 0\n",
            "predicted: 1        92       147\n",
            "predicted: 0        56      2955\n",
            "\n",
            "Confusion matrix by white=1\n",
            "             actual: 1 actual: 0\n",
            "predicted: 1      1753      5162\n",
            "predicted: 0      1412     26198\n",
            "\n",
            "Confusion matrix by male=1\n",
            "             actual: 1 actual: 0\n",
            "predicted: 1       924      2619\n",
            "predicted: 0       740     11549\n",
            "\n",
            "Confusion matrix by female=1\n",
            "             actual: 1 actual: 0\n",
            "predicted: 1       758      1815\n",
            "predicted: 0       482      6977\n",
            "\n"
          ]
        }
      ],
      "source": [
        "demographic_group_names = ['black', 'asian', 'white', 'male', 'female']\n",
        "cm_dict = {}\n",
        "\n",
        "for name in demographic_group_names:\n",
        "    cm_dict[name] = get_confusion_matrix(best_ebm_phat, y_name, 'phat', by=name, level=1, cutoff=best_cut)\n",
        "    print(cm_dict[name])\n",
        "    print()"
      ]
    },
    {
      "cell_type": "markdown",
      "id": "b066473e",
      "metadata": {
        "id": "b066473e"
      },
      "source": [
        "#### Find AIR for Asian people"
      ]
    },
    {
      "cell_type": "code",
      "execution_count": 17,
      "id": "045b6491",
      "metadata": {
        "colab": {
          "base_uri": "https://localhost:8080/"
        },
        "id": "045b6491",
        "outputId": "2fa63f3b-a778-41ba-cf14-5f63f9fad71d",
        "scrolled": true
      },
      "outputs": [
        {
          "output_type": "stream",
          "name": "stdout",
          "text": [
            "White proportion accepted: 0.800\n",
            "Asian proportion accepted: 0.926\n",
            "Adverse impact ratio for Asian people vs. White people: 1.158\n"
          ]
        }
      ],
      "source": [
        "print('Adverse impact ratio for Asian people vs. White people: %.3f' % air(cm_dict, 'white', 'asian'))"
      ]
    },
    {
      "cell_type": "markdown",
      "id": "8ca4cfa2",
      "metadata": {
        "id": "8ca4cfa2"
      },
      "source": [
        "#### Find AIR for Black people"
      ]
    },
    {
      "cell_type": "code",
      "execution_count": 18,
      "id": "1ced4480",
      "metadata": {
        "colab": {
          "base_uri": "https://localhost:8080/"
        },
        "id": "1ced4480",
        "outputId": "9403a9c6-4c34-4b3c-d9e3-d4e229d2bd67"
      },
      "outputs": [
        {
          "output_type": "stream",
          "name": "stdout",
          "text": [
            "White proportion accepted: 0.800\n",
            "Black proportion accepted: 0.629\n",
            "Adverse impact ratio for Black people vs. White people: 0.787\n"
          ]
        }
      ],
      "source": [
        "print('Adverse impact ratio for Black people vs. White people: %.3f' % air(cm_dict, 'white', 'black'))"
      ]
    },
    {
      "cell_type": "markdown",
      "id": "dbfb2073",
      "metadata": {
        "id": "dbfb2073"
      },
      "source": [
        "#### Find AIR for Females"
      ]
    },
    {
      "cell_type": "code",
      "execution_count": 19,
      "id": "6ae73a88",
      "metadata": {
        "colab": {
          "base_uri": "https://localhost:8080/"
        },
        "id": "6ae73a88",
        "outputId": "c11d5339-5d4a-4fc9-be1f-e7adf4b5bec8"
      },
      "outputs": [
        {
          "output_type": "stream",
          "name": "stdout",
          "text": [
            "Male proportion accepted: 0.776\n",
            "Female proportion accepted: 0.744\n",
            "Adverse impact ratio for Females vs. Males: 0.958\n"
          ]
        }
      ],
      "source": [
        "print('Adverse impact ratio for Females vs. Males: %.3f' % air(cm_dict, 'male', 'female'))"
      ]
    },
    {
      "cell_type": "markdown",
      "id": "a6b82e06",
      "metadata": {
        "id": "a6b82e06"
      },
      "source": [
        "### Attempt remediation of discovered discrimination"
      ]
    },
    {
      "cell_type": "markdown",
      "id": "e9ff1a02",
      "metadata": {
        "id": "e9ff1a02"
      },
      "source": [
        "#### Simplest remediation: Find cutoff with better Black vs. White AIR"
      ]
    },
    {
      "cell_type": "code",
      "execution_count": 20,
      "id": "3389c88a",
      "metadata": {
        "colab": {
          "base_uri": "https://localhost:8080/",
          "height": 261
        },
        "id": "3389c88a",
        "outputId": "9f70af85-f4ec-4041-edd8-a26c6d2a21c9"
      },
      "outputs": [
        {
          "output_type": "stream",
          "name": "stderr",
          "text": [
            "<ipython-input-5-27fa63c62f51>:42: FutureWarning: The behavior of DataFrame concatenation with empty or all-NA entries is deprecated. In a future version, this will no longer exclude empty or all-NA columns when determining the result dtypes. To retain the old behavior, exclude the relevant entries before the concat operation.\n",
            "  f1_frame = pd.concat([f1_frame, pd.DataFrame(row_dict, index=[i])], axis=0)\n"
          ]
        },
        {
          "output_type": "execute_result",
          "data": {
            "text/plain": [
              "     cut        f1       acc       air\n",
              "21  0.21  0.365991  0.824914  0.803421\n",
              "22  0.22  0.358403  0.833586  0.819447\n",
              "23  0.23  0.351885  0.842342  0.841641\n",
              "24  0.24  0.343438  0.850910  0.858363\n",
              "25  0.25  0.332018  0.859166  0.874988"
            ],
            "text/html": [
              "\n",
              "  <div id=\"df-993fadee-4d9d-4737-8245-31a0a42766ea\" class=\"colab-df-container\">\n",
              "    <div>\n",
              "<style scoped>\n",
              "    .dataframe tbody tr th:only-of-type {\n",
              "        vertical-align: middle;\n",
              "    }\n",
              "\n",
              "    .dataframe tbody tr th {\n",
              "        vertical-align: top;\n",
              "    }\n",
              "\n",
              "    .dataframe thead th {\n",
              "        text-align: right;\n",
              "    }\n",
              "</style>\n",
              "<table border=\"1\" class=\"dataframe\">\n",
              "  <thead>\n",
              "    <tr style=\"text-align: right;\">\n",
              "      <th></th>\n",
              "      <th>cut</th>\n",
              "      <th>f1</th>\n",
              "      <th>acc</th>\n",
              "      <th>air</th>\n",
              "    </tr>\n",
              "  </thead>\n",
              "  <tbody>\n",
              "    <tr>\n",
              "      <th>21</th>\n",
              "      <td>0.21</td>\n",
              "      <td>0.365991</td>\n",
              "      <td>0.824914</td>\n",
              "      <td>0.803421</td>\n",
              "    </tr>\n",
              "    <tr>\n",
              "      <th>22</th>\n",
              "      <td>0.22</td>\n",
              "      <td>0.358403</td>\n",
              "      <td>0.833586</td>\n",
              "      <td>0.819447</td>\n",
              "    </tr>\n",
              "    <tr>\n",
              "      <th>23</th>\n",
              "      <td>0.23</td>\n",
              "      <td>0.351885</td>\n",
              "      <td>0.842342</td>\n",
              "      <td>0.841641</td>\n",
              "    </tr>\n",
              "    <tr>\n",
              "      <th>24</th>\n",
              "      <td>0.24</td>\n",
              "      <td>0.343438</td>\n",
              "      <td>0.850910</td>\n",
              "      <td>0.858363</td>\n",
              "    </tr>\n",
              "    <tr>\n",
              "      <th>25</th>\n",
              "      <td>0.25</td>\n",
              "      <td>0.332018</td>\n",
              "      <td>0.859166</td>\n",
              "      <td>0.874988</td>\n",
              "    </tr>\n",
              "  </tbody>\n",
              "</table>\n",
              "</div>\n",
              "    <div class=\"colab-df-buttons\">\n",
              "\n",
              "  <div class=\"colab-df-container\">\n",
              "    <button class=\"colab-df-convert\" onclick=\"convertToInteractive('df-993fadee-4d9d-4737-8245-31a0a42766ea')\"\n",
              "            title=\"Convert this dataframe to an interactive table.\"\n",
              "            style=\"display:none;\">\n",
              "\n",
              "  <svg xmlns=\"http://www.w3.org/2000/svg\" height=\"24px\" viewBox=\"0 -960 960 960\">\n",
              "    <path d=\"M120-120v-720h720v720H120Zm60-500h600v-160H180v160Zm220 220h160v-160H400v160Zm0 220h160v-160H400v160ZM180-400h160v-160H180v160Zm440 0h160v-160H620v160ZM180-180h160v-160H180v160Zm440 0h160v-160H620v160Z\"/>\n",
              "  </svg>\n",
              "    </button>\n",
              "\n",
              "  <style>\n",
              "    .colab-df-container {\n",
              "      display:flex;\n",
              "      gap: 12px;\n",
              "    }\n",
              "\n",
              "    .colab-df-convert {\n",
              "      background-color: #E8F0FE;\n",
              "      border: none;\n",
              "      border-radius: 50%;\n",
              "      cursor: pointer;\n",
              "      display: none;\n",
              "      fill: #1967D2;\n",
              "      height: 32px;\n",
              "      padding: 0 0 0 0;\n",
              "      width: 32px;\n",
              "    }\n",
              "\n",
              "    .colab-df-convert:hover {\n",
              "      background-color: #E2EBFA;\n",
              "      box-shadow: 0px 1px 2px rgba(60, 64, 67, 0.3), 0px 1px 3px 1px rgba(60, 64, 67, 0.15);\n",
              "      fill: #174EA6;\n",
              "    }\n",
              "\n",
              "    .colab-df-buttons div {\n",
              "      margin-bottom: 4px;\n",
              "    }\n",
              "\n",
              "    [theme=dark] .colab-df-convert {\n",
              "      background-color: #3B4455;\n",
              "      fill: #D2E3FC;\n",
              "    }\n",
              "\n",
              "    [theme=dark] .colab-df-convert:hover {\n",
              "      background-color: #434B5C;\n",
              "      box-shadow: 0px 1px 3px 1px rgba(0, 0, 0, 0.15);\n",
              "      filter: drop-shadow(0px 1px 2px rgba(0, 0, 0, 0.3));\n",
              "      fill: #FFFFFF;\n",
              "    }\n",
              "  </style>\n",
              "\n",
              "    <script>\n",
              "      const buttonEl =\n",
              "        document.querySelector('#df-993fadee-4d9d-4737-8245-31a0a42766ea button.colab-df-convert');\n",
              "      buttonEl.style.display =\n",
              "        google.colab.kernel.accessAllowed ? 'block' : 'none';\n",
              "\n",
              "      async function convertToInteractive(key) {\n",
              "        const element = document.querySelector('#df-993fadee-4d9d-4737-8245-31a0a42766ea');\n",
              "        const dataTable =\n",
              "          await google.colab.kernel.invokeFunction('convertToInteractive',\n",
              "                                                    [key], {});\n",
              "        if (!dataTable) return;\n",
              "\n",
              "        const docLinkHtml = 'Like what you see? Visit the ' +\n",
              "          '<a target=\"_blank\" href=https://colab.research.google.com/notebooks/data_table.ipynb>data table notebook</a>'\n",
              "          + ' to learn more about interactive tables.';\n",
              "        element.innerHTML = '';\n",
              "        dataTable['output_type'] = 'display_data';\n",
              "        await google.colab.output.renderOutput(dataTable, element);\n",
              "        const docLink = document.createElement('div');\n",
              "        docLink.innerHTML = docLinkHtml;\n",
              "        element.appendChild(docLink);\n",
              "      }\n",
              "    </script>\n",
              "  </div>\n",
              "\n",
              "\n",
              "<div id=\"df-54d01e70-6831-459b-a2d2-8d90f9210de6\">\n",
              "  <button class=\"colab-df-quickchart\" onclick=\"quickchart('df-54d01e70-6831-459b-a2d2-8d90f9210de6')\"\n",
              "            title=\"Suggest charts\"\n",
              "            style=\"display:none;\">\n",
              "\n",
              "<svg xmlns=\"http://www.w3.org/2000/svg\" height=\"24px\"viewBox=\"0 0 24 24\"\n",
              "     width=\"24px\">\n",
              "    <g>\n",
              "        <path d=\"M19 3H5c-1.1 0-2 .9-2 2v14c0 1.1.9 2 2 2h14c1.1 0 2-.9 2-2V5c0-1.1-.9-2-2-2zM9 17H7v-7h2v7zm4 0h-2V7h2v10zm4 0h-2v-4h2v4z\"/>\n",
              "    </g>\n",
              "</svg>\n",
              "  </button>\n",
              "\n",
              "<style>\n",
              "  .colab-df-quickchart {\n",
              "      --bg-color: #E8F0FE;\n",
              "      --fill-color: #1967D2;\n",
              "      --hover-bg-color: #E2EBFA;\n",
              "      --hover-fill-color: #174EA6;\n",
              "      --disabled-fill-color: #AAA;\n",
              "      --disabled-bg-color: #DDD;\n",
              "  }\n",
              "\n",
              "  [theme=dark] .colab-df-quickchart {\n",
              "      --bg-color: #3B4455;\n",
              "      --fill-color: #D2E3FC;\n",
              "      --hover-bg-color: #434B5C;\n",
              "      --hover-fill-color: #FFFFFF;\n",
              "      --disabled-bg-color: #3B4455;\n",
              "      --disabled-fill-color: #666;\n",
              "  }\n",
              "\n",
              "  .colab-df-quickchart {\n",
              "    background-color: var(--bg-color);\n",
              "    border: none;\n",
              "    border-radius: 50%;\n",
              "    cursor: pointer;\n",
              "    display: none;\n",
              "    fill: var(--fill-color);\n",
              "    height: 32px;\n",
              "    padding: 0;\n",
              "    width: 32px;\n",
              "  }\n",
              "\n",
              "  .colab-df-quickchart:hover {\n",
              "    background-color: var(--hover-bg-color);\n",
              "    box-shadow: 0 1px 2px rgba(60, 64, 67, 0.3), 0 1px 3px 1px rgba(60, 64, 67, 0.15);\n",
              "    fill: var(--button-hover-fill-color);\n",
              "  }\n",
              "\n",
              "  .colab-df-quickchart-complete:disabled,\n",
              "  .colab-df-quickchart-complete:disabled:hover {\n",
              "    background-color: var(--disabled-bg-color);\n",
              "    fill: var(--disabled-fill-color);\n",
              "    box-shadow: none;\n",
              "  }\n",
              "\n",
              "  .colab-df-spinner {\n",
              "    border: 2px solid var(--fill-color);\n",
              "    border-color: transparent;\n",
              "    border-bottom-color: var(--fill-color);\n",
              "    animation:\n",
              "      spin 1s steps(1) infinite;\n",
              "  }\n",
              "\n",
              "  @keyframes spin {\n",
              "    0% {\n",
              "      border-color: transparent;\n",
              "      border-bottom-color: var(--fill-color);\n",
              "      border-left-color: var(--fill-color);\n",
              "    }\n",
              "    20% {\n",
              "      border-color: transparent;\n",
              "      border-left-color: var(--fill-color);\n",
              "      border-top-color: var(--fill-color);\n",
              "    }\n",
              "    30% {\n",
              "      border-color: transparent;\n",
              "      border-left-color: var(--fill-color);\n",
              "      border-top-color: var(--fill-color);\n",
              "      border-right-color: var(--fill-color);\n",
              "    }\n",
              "    40% {\n",
              "      border-color: transparent;\n",
              "      border-right-color: var(--fill-color);\n",
              "      border-top-color: var(--fill-color);\n",
              "    }\n",
              "    60% {\n",
              "      border-color: transparent;\n",
              "      border-right-color: var(--fill-color);\n",
              "    }\n",
              "    80% {\n",
              "      border-color: transparent;\n",
              "      border-right-color: var(--fill-color);\n",
              "      border-bottom-color: var(--fill-color);\n",
              "    }\n",
              "    90% {\n",
              "      border-color: transparent;\n",
              "      border-bottom-color: var(--fill-color);\n",
              "    }\n",
              "  }\n",
              "</style>\n",
              "\n",
              "  <script>\n",
              "    async function quickchart(key) {\n",
              "      const quickchartButtonEl =\n",
              "        document.querySelector('#' + key + ' button');\n",
              "      quickchartButtonEl.disabled = true;  // To prevent multiple clicks.\n",
              "      quickchartButtonEl.classList.add('colab-df-spinner');\n",
              "      try {\n",
              "        const charts = await google.colab.kernel.invokeFunction(\n",
              "            'suggestCharts', [key], {});\n",
              "      } catch (error) {\n",
              "        console.error('Error during call to suggestCharts:', error);\n",
              "      }\n",
              "      quickchartButtonEl.classList.remove('colab-df-spinner');\n",
              "      quickchartButtonEl.classList.add('colab-df-quickchart-complete');\n",
              "    }\n",
              "    (() => {\n",
              "      let quickchartButtonEl =\n",
              "        document.querySelector('#df-54d01e70-6831-459b-a2d2-8d90f9210de6 button');\n",
              "      quickchartButtonEl.style.display =\n",
              "        google.colab.kernel.accessAllowed ? 'block' : 'none';\n",
              "    })();\n",
              "  </script>\n",
              "</div>\n",
              "\n",
              "    </div>\n",
              "  </div>\n"
            ],
            "application/vnd.google.colaboratory.intrinsic+json": {
              "type": "dataframe",
              "summary": "{\n  \"name\": \"f1_frame[f1_frame['air'] > 0\",\n  \"rows\": 5,\n  \"fields\": [\n    {\n      \"column\": \"cut\",\n      \"properties\": {\n        \"dtype\": \"number\",\n        \"std\": 0.015811388300841896,\n        \"min\": 0.21,\n        \"max\": 0.25,\n        \"num_unique_values\": 5,\n        \"samples\": [\n          0.22,\n          0.25,\n          0.23\n        ],\n        \"semantic_type\": \"\",\n        \"description\": \"\"\n      }\n    },\n    {\n      \"column\": \"f1\",\n      \"properties\": {\n        \"dtype\": \"number\",\n        \"std\": 0.013187969684339546,\n        \"min\": 0.3320181495363977,\n        \"max\": 0.365991415016191,\n        \"num_unique_values\": 5,\n        \"samples\": [\n          0.35840282232200127,\n          0.3320181495363977,\n          0.3518850987432675\n        ],\n        \"semantic_type\": \"\",\n        \"description\": \"\"\n      }\n    },\n    {\n      \"column\": \"acc\",\n      \"properties\": {\n        \"dtype\": \"number\",\n        \"std\": 0.013571298657984765,\n        \"min\": 0.8249142144119788,\n        \"max\": 0.8591660601019029,\n        \"num_unique_values\": 5,\n        \"samples\": [\n          0.8335863574919413,\n          0.8591660601019029,\n          0.8423416865966518\n        ],\n        \"semantic_type\": \"\",\n        \"description\": \"\"\n      }\n    },\n    {\n      \"column\": \"air\",\n      \"properties\": {\n        \"dtype\": \"number\",\n        \"std\": 0.02882551643313902,\n        \"min\": 0.8034206185116717,\n        \"max\": 0.8749882523931437,\n        \"num_unique_values\": 5,\n        \"samples\": [\n          0.8194472242068349,\n          0.8749882523931437,\n          0.8416412327430187\n        ],\n        \"semantic_type\": \"\",\n        \"description\": \"\"\n      }\n    }\n  ]\n}"
            }
          },
          "metadata": {},
          "execution_count": 20
        }
      ],
      "source": [
        "f1_frame = get_max_f1_frame(best_ebm_phat, y_name, 'phat', air_reference='white', air_protected='black')\n",
        "# print highest quality cutoffs above four fifths rule cutoff\n",
        "f1_frame[f1_frame['air'] > 0.8].sort_values(by='f1', ascending=False).head()"
      ]
    },
    {
      "cell_type": "markdown",
      "id": "da510ba4",
      "metadata": {
        "id": "da510ba4"
      },
      "source": [
        "Cutoffs in the 0.22-0.26 range provide increased accuracy and less bias towards Black people."
      ]
    },
    {
      "cell_type": "markdown",
      "id": "059e0098",
      "metadata": {
        "id": "059e0098"
      },
      "source": [
        "#### Check that other groups are not adversely impacted by change"
      ]
    },
    {
      "cell_type": "code",
      "execution_count": 21,
      "id": "3bf36369",
      "metadata": {
        "colab": {
          "base_uri": "https://localhost:8080/"
        },
        "id": "3bf36369",
        "outputId": "d2261134-c3b5-47f6-f41d-19362998a879"
      },
      "outputs": [
        {
          "output_type": "stream",
          "name": "stdout",
          "text": [
            "Adverse impact ratio for Asian people vs. White people: 1.126\n",
            "Adverse impact ratio for Black people vs. White people: 0.819\n",
            "Adverse impact ratio for Females vs. Males: 0.967\n"
          ]
        }
      ],
      "source": [
        "# calculate new confusion matrics for each group\n",
        "rem_cm_dict = {}\n",
        "for name in demographic_group_names:\n",
        "    rem_cm_dict[name] = get_confusion_matrix(best_ebm_phat, y_name, 'phat', by=name, level=1, cutoff=0.22, verbose=False)\n",
        "\n",
        "# calculate AIR for each group\n",
        "print('Adverse impact ratio for Asian people vs. White people: %.3f' % air(rem_cm_dict, 'white', 'asian', verbose=False))\n",
        "print('Adverse impact ratio for Black people vs. White people: %.3f' % air(rem_cm_dict, 'white', 'black', verbose=False))\n",
        "print('Adverse impact ratio for Females vs. Males: %.3f' % air(rem_cm_dict, 'male', 'female', verbose=False))"
      ]
    },
    {
      "cell_type": "markdown",
      "id": "ebe3238c",
      "metadata": {
        "id": "ebe3238c"
      },
      "source": [
        "The new cutoff does not adversely affect other protected groups."
      ]
    },
    {
      "cell_type": "markdown",
      "id": "a70067a1",
      "metadata": {
        "id": "a70067a1"
      },
      "source": [
        "#### More sophisticated remdiation: Model selection via quality and fairness"
      ]
    },
    {
      "cell_type": "code",
      "execution_count": 22,
      "id": "96994093",
      "metadata": {
        "colab": {
          "base_uri": "https://localhost:8080/"
        },
        "id": "96994093",
        "outputId": "09bae0da-7a4a-4d64-f084-d3dd46a29cba"
      },
      "outputs": [
        {
          "output_type": "stream",
          "name": "stdout",
          "text": [
            "Grid search run 1/70:\n",
            "Training with parameters: {'n_jobs': 4, 'early_stopping_rounds': 100, 'random_state': 12345, 'max_bins': 256, 'interactions': 5, 'outer_bags': 4, 'learning_rate': 0.1}\n"
          ]
        },
        {
          "output_type": "stream",
          "name": "stderr",
          "text": [
            "<ipython-input-6-0a10eb72a23e>:90: FutureWarning: The behavior of DataFrame concatenation with empty or all-NA entries is deprecated. In a future version, this will no longer exclude empty or all-NA columns when determining the result dtypes. To retain the old behavior, exclude the relevant entries before the concat operation.\n",
            "  ebm_grid_frame = pd.concat([ebm_grid_frame, pd.DataFrame(row_dict, index=[i])], axis=0)\n"
          ]
        },
        {
          "output_type": "stream",
          "name": "stdout",
          "text": [
            "Grid search new best score discovered at iteration 1/70: 0.8209.\n",
            "---------- ----------\n",
            "Grid search run 2/70:\n",
            "Training with parameters: {'n_jobs': 4, 'early_stopping_rounds': 100, 'random_state': 12345, 'max_bins': 128, 'interactions': 5, 'outer_bags': 4, 'learning_rate': 0.05}\n",
            "---------- ----------\n",
            "Grid search run 3/70:\n",
            "Training with parameters: {'n_jobs': 4, 'early_stopping_rounds': 100, 'random_state': 12345, 'max_bins': 256, 'interactions': 10, 'outer_bags': 4, 'learning_rate': 0.01}\n",
            "---------- ----------\n",
            "Grid search run 4/70:\n",
            "Training with parameters: {'n_jobs': 4, 'early_stopping_rounds': 100, 'random_state': 12345, 'max_bins': 256, 'interactions': 10, 'outer_bags': 8, 'learning_rate': 0.1}\n",
            "Grid search new best score discovered at iteration 4/70: 0.8249.\n",
            "---------- ----------\n",
            "Grid search run 5/70:\n",
            "Training with parameters: {'n_jobs': 4, 'early_stopping_rounds': 100, 'random_state': 12345, 'max_bins': 256, 'interactions': 5, 'outer_bags': 16, 'learning_rate': 0.05}\n",
            "---------- ----------\n",
            "Grid search run 6/70:\n",
            "Training with parameters: {'n_jobs': 4, 'early_stopping_rounds': 100, 'random_state': 12345, 'max_bins': 256, 'interactions': 5, 'outer_bags': 4, 'learning_rate': 0.1}\n",
            "---------- ----------\n",
            "Grid search run 7/70:\n",
            "Training with parameters: {'n_jobs': 4, 'early_stopping_rounds': 100, 'random_state': 12345, 'max_bins': 128, 'interactions': 5, 'outer_bags': 4, 'learning_rate': 0.05}\n",
            "---------- ----------\n",
            "Grid search run 8/70:\n",
            "Training with parameters: {'n_jobs': 4, 'early_stopping_rounds': 100, 'random_state': 12345, 'max_bins': 512, 'interactions': 5, 'outer_bags': 8, 'learning_rate': 0.1}\n",
            "---------- ----------\n",
            "Grid search run 9/70:\n",
            "Training with parameters: {'n_jobs': 4, 'early_stopping_rounds': 100, 'random_state': 12345, 'max_bins': 128, 'interactions': 10, 'outer_bags': 8, 'learning_rate': 0.1}\n",
            "---------- ----------\n",
            "Grid search run 10/70:\n",
            "Training with parameters: {'n_jobs': 4, 'early_stopping_rounds': 100, 'random_state': 12345, 'max_bins': 512, 'interactions': 20, 'outer_bags': 16, 'learning_rate': 0.1}\n",
            "---------- ----------\n",
            "Grid search run 11/70:\n",
            "Training with parameters: {'n_jobs': 4, 'early_stopping_rounds': 100, 'random_state': 12345, 'max_bins': 512, 'interactions': 20, 'outer_bags': 4, 'learning_rate': 0.05}\n",
            "---------- ----------\n",
            "Grid search run 12/70:\n",
            "Training with parameters: {'n_jobs': 4, 'early_stopping_rounds': 100, 'random_state': 12345, 'max_bins': 128, 'interactions': 10, 'outer_bags': 4, 'learning_rate': 0.1}\n",
            "---------- ----------\n",
            "Grid search run 13/70:\n",
            "Training with parameters: {'n_jobs': 4, 'early_stopping_rounds': 100, 'random_state': 12345, 'max_bins': 512, 'interactions': 20, 'outer_bags': 8, 'learning_rate': 0.1}\n",
            "---------- ----------\n",
            "Grid search run 14/70:\n",
            "Training with parameters: {'n_jobs': 4, 'early_stopping_rounds': 100, 'random_state': 12345, 'max_bins': 128, 'interactions': 10, 'outer_bags': 4, 'learning_rate': 0.05}\n",
            "---------- ----------\n",
            "Grid search run 15/70:\n",
            "Training with parameters: {'n_jobs': 4, 'early_stopping_rounds': 100, 'random_state': 12345, 'max_bins': 256, 'interactions': 10, 'outer_bags': 4, 'learning_rate': 0.1}\n",
            "---------- ----------\n",
            "Grid search run 16/70:\n",
            "Training with parameters: {'n_jobs': 4, 'early_stopping_rounds': 100, 'random_state': 12345, 'max_bins': 128, 'interactions': 5, 'outer_bags': 16, 'learning_rate': 0.05}\n",
            "---------- ----------\n",
            "Grid search run 17/70:\n",
            "Training with parameters: {'n_jobs': 4, 'early_stopping_rounds': 100, 'random_state': 12345, 'max_bins': 256, 'interactions': 10, 'outer_bags': 16, 'learning_rate': 0.05}\n",
            "---------- ----------\n",
            "Grid search run 18/70:\n",
            "Training with parameters: {'n_jobs': 4, 'early_stopping_rounds': 100, 'random_state': 12345, 'max_bins': 128, 'interactions': 20, 'outer_bags': 8, 'learning_rate': 0.1}\n",
            "---------- ----------\n",
            "Grid search run 19/70:\n",
            "Training with parameters: {'n_jobs': 4, 'early_stopping_rounds': 100, 'random_state': 12345, 'max_bins': 256, 'interactions': 5, 'outer_bags': 4, 'learning_rate': 0.1}\n",
            "---------- ----------\n",
            "Grid search run 20/70:\n",
            "Training with parameters: {'n_jobs': 4, 'early_stopping_rounds': 100, 'random_state': 12345, 'max_bins': 512, 'interactions': 5, 'outer_bags': 4, 'learning_rate': 0.1}\n",
            "---------- ----------\n",
            "Grid search run 21/70:\n",
            "Training with parameters: {'n_jobs': 4, 'early_stopping_rounds': 100, 'random_state': 12345, 'max_bins': 512, 'interactions': 5, 'outer_bags': 4, 'learning_rate': 0.05}\n",
            "---------- ----------\n",
            "Grid search run 22/70:\n",
            "Training with parameters: {'n_jobs': 4, 'early_stopping_rounds': 100, 'random_state': 12345, 'max_bins': 256, 'interactions': 5, 'outer_bags': 8, 'learning_rate': 0.05}\n",
            "---------- ----------\n",
            "Grid search run 23/70:\n",
            "Training with parameters: {'n_jobs': 4, 'early_stopping_rounds': 100, 'random_state': 12345, 'max_bins': 512, 'interactions': 5, 'outer_bags': 16, 'learning_rate': 0.05}\n",
            "---------- ----------\n",
            "Grid search run 24/70:\n",
            "Training with parameters: {'n_jobs': 4, 'early_stopping_rounds': 100, 'random_state': 12345, 'max_bins': 256, 'interactions': 10, 'outer_bags': 4, 'learning_rate': 0.01}\n",
            "---------- ----------\n",
            "Grid search run 25/70:\n",
            "Training with parameters: {'n_jobs': 4, 'early_stopping_rounds': 100, 'random_state': 12345, 'max_bins': 512, 'interactions': 10, 'outer_bags': 4, 'learning_rate': 0.05}\n",
            "---------- ----------\n",
            "Grid search run 26/70:\n",
            "Training with parameters: {'n_jobs': 4, 'early_stopping_rounds': 100, 'random_state': 12345, 'max_bins': 128, 'interactions': 5, 'outer_bags': 8, 'learning_rate': 0.01}\n",
            "---------- ----------\n",
            "Grid search run 27/70:\n",
            "Training with parameters: {'n_jobs': 4, 'early_stopping_rounds': 100, 'random_state': 12345, 'max_bins': 128, 'interactions': 5, 'outer_bags': 8, 'learning_rate': 0.1}\n",
            "---------- ----------\n",
            "Grid search run 28/70:\n",
            "Training with parameters: {'n_jobs': 4, 'early_stopping_rounds': 100, 'random_state': 12345, 'max_bins': 128, 'interactions': 10, 'outer_bags': 16, 'learning_rate': 0.01}\n",
            "---------- ----------\n",
            "Grid search run 29/70:\n",
            "Training with parameters: {'n_jobs': 4, 'early_stopping_rounds': 100, 'random_state': 12345, 'max_bins': 512, 'interactions': 20, 'outer_bags': 8, 'learning_rate': 0.01}\n",
            "---------- ----------\n",
            "Grid search run 30/70:\n",
            "Training with parameters: {'n_jobs': 4, 'early_stopping_rounds': 100, 'random_state': 12345, 'max_bins': 128, 'interactions': 10, 'outer_bags': 8, 'learning_rate': 0.1}\n",
            "---------- ----------\n",
            "Grid search run 31/70:\n",
            "Training with parameters: {'n_jobs': 4, 'early_stopping_rounds': 100, 'random_state': 12345, 'max_bins': 128, 'interactions': 5, 'outer_bags': 8, 'learning_rate': 0.1}\n",
            "---------- ----------\n",
            "Grid search run 32/70:\n",
            "Training with parameters: {'n_jobs': 4, 'early_stopping_rounds': 100, 'random_state': 12345, 'max_bins': 256, 'interactions': 5, 'outer_bags': 16, 'learning_rate': 0.05}\n",
            "---------- ----------\n",
            "Grid search run 33/70:\n",
            "Training with parameters: {'n_jobs': 4, 'early_stopping_rounds': 100, 'random_state': 12345, 'max_bins': 256, 'interactions': 20, 'outer_bags': 16, 'learning_rate': 0.1}\n",
            "---------- ----------\n",
            "Grid search run 34/70:\n",
            "Training with parameters: {'n_jobs': 4, 'early_stopping_rounds': 100, 'random_state': 12345, 'max_bins': 512, 'interactions': 20, 'outer_bags': 4, 'learning_rate': 0.01}\n",
            "---------- ----------\n",
            "Grid search run 35/70:\n",
            "Training with parameters: {'n_jobs': 4, 'early_stopping_rounds': 100, 'random_state': 12345, 'max_bins': 128, 'interactions': 5, 'outer_bags': 8, 'learning_rate': 0.1}\n",
            "---------- ----------\n",
            "Grid search run 36/70:\n",
            "Training with parameters: {'n_jobs': 4, 'early_stopping_rounds': 100, 'random_state': 12345, 'max_bins': 128, 'interactions': 5, 'outer_bags': 8, 'learning_rate': 0.1}\n",
            "---------- ----------\n",
            "Grid search run 37/70:\n",
            "Training with parameters: {'n_jobs': 4, 'early_stopping_rounds': 100, 'random_state': 12345, 'max_bins': 512, 'interactions': 5, 'outer_bags': 8, 'learning_rate': 0.1}\n",
            "---------- ----------\n",
            "Grid search run 38/70:\n",
            "Training with parameters: {'n_jobs': 4, 'early_stopping_rounds': 100, 'random_state': 12345, 'max_bins': 128, 'interactions': 10, 'outer_bags': 8, 'learning_rate': 0.01}\n",
            "---------- ----------\n",
            "Grid search run 39/70:\n",
            "Training with parameters: {'n_jobs': 4, 'early_stopping_rounds': 100, 'random_state': 12345, 'max_bins': 128, 'interactions': 10, 'outer_bags': 8, 'learning_rate': 0.1}\n",
            "---------- ----------\n",
            "Grid search run 40/70:\n",
            "Training with parameters: {'n_jobs': 4, 'early_stopping_rounds': 100, 'random_state': 12345, 'max_bins': 512, 'interactions': 20, 'outer_bags': 16, 'learning_rate': 0.1}\n",
            "---------- ----------\n",
            "Grid search run 41/70:\n",
            "Training with parameters: {'n_jobs': 4, 'early_stopping_rounds': 100, 'random_state': 12345, 'max_bins': 256, 'interactions': 5, 'outer_bags': 4, 'learning_rate': 0.01}\n",
            "---------- ----------\n",
            "Grid search run 42/70:\n",
            "Training with parameters: {'n_jobs': 4, 'early_stopping_rounds': 100, 'random_state': 12345, 'max_bins': 256, 'interactions': 10, 'outer_bags': 4, 'learning_rate': 0.1}\n",
            "---------- ----------\n",
            "Grid search run 43/70:\n",
            "Training with parameters: {'n_jobs': 4, 'early_stopping_rounds': 100, 'random_state': 12345, 'max_bins': 128, 'interactions': 5, 'outer_bags': 8, 'learning_rate': 0.1}\n",
            "---------- ----------\n",
            "Grid search run 44/70:\n",
            "Training with parameters: {'n_jobs': 4, 'early_stopping_rounds': 100, 'random_state': 12345, 'max_bins': 512, 'interactions': 20, 'outer_bags': 4, 'learning_rate': 0.1}\n",
            "---------- ----------\n",
            "Grid search run 45/70:\n",
            "Training with parameters: {'n_jobs': 4, 'early_stopping_rounds': 100, 'random_state': 12345, 'max_bins': 512, 'interactions': 20, 'outer_bags': 8, 'learning_rate': 0.05}\n",
            "---------- ----------\n",
            "Grid search run 46/70:\n",
            "Training with parameters: {'n_jobs': 4, 'early_stopping_rounds': 100, 'random_state': 12345, 'max_bins': 128, 'interactions': 20, 'outer_bags': 8, 'learning_rate': 0.05}\n",
            "---------- ----------\n",
            "Grid search run 47/70:\n",
            "Training with parameters: {'n_jobs': 4, 'early_stopping_rounds': 100, 'random_state': 12345, 'max_bins': 128, 'interactions': 10, 'outer_bags': 8, 'learning_rate': 0.01}\n",
            "---------- ----------\n",
            "Grid search run 48/70:\n",
            "Training with parameters: {'n_jobs': 4, 'early_stopping_rounds': 100, 'random_state': 12345, 'max_bins': 512, 'interactions': 5, 'outer_bags': 16, 'learning_rate': 0.1}\n",
            "---------- ----------\n",
            "Grid search run 49/70:\n",
            "Training with parameters: {'n_jobs': 4, 'early_stopping_rounds': 100, 'random_state': 12345, 'max_bins': 256, 'interactions': 10, 'outer_bags': 8, 'learning_rate': 0.1}\n",
            "---------- ----------\n",
            "Grid search run 50/70:\n",
            "Training with parameters: {'n_jobs': 4, 'early_stopping_rounds': 100, 'random_state': 12345, 'max_bins': 128, 'interactions': 20, 'outer_bags': 4, 'learning_rate': 0.01}\n",
            "---------- ----------\n",
            "Grid search run 51/70:\n",
            "Training with parameters: {'n_jobs': 4, 'early_stopping_rounds': 100, 'random_state': 12345, 'max_bins': 256, 'interactions': 20, 'outer_bags': 8, 'learning_rate': 0.1}\n",
            "---------- ----------\n",
            "Grid search run 52/70:\n",
            "Training with parameters: {'n_jobs': 4, 'early_stopping_rounds': 100, 'random_state': 12345, 'max_bins': 512, 'interactions': 5, 'outer_bags': 8, 'learning_rate': 0.01}\n",
            "---------- ----------\n",
            "Grid search run 53/70:\n",
            "Training with parameters: {'n_jobs': 4, 'early_stopping_rounds': 100, 'random_state': 12345, 'max_bins': 256, 'interactions': 20, 'outer_bags': 4, 'learning_rate': 0.05}\n",
            "---------- ----------\n",
            "Grid search run 54/70:\n",
            "Training with parameters: {'n_jobs': 4, 'early_stopping_rounds': 100, 'random_state': 12345, 'max_bins': 512, 'interactions': 5, 'outer_bags': 8, 'learning_rate': 0.05}\n",
            "---------- ----------\n",
            "Grid search run 55/70:\n",
            "Training with parameters: {'n_jobs': 4, 'early_stopping_rounds': 100, 'random_state': 12345, 'max_bins': 128, 'interactions': 20, 'outer_bags': 8, 'learning_rate': 0.1}\n",
            "---------- ----------\n",
            "Grid search run 56/70:\n",
            "Training with parameters: {'n_jobs': 4, 'early_stopping_rounds': 100, 'random_state': 12345, 'max_bins': 128, 'interactions': 20, 'outer_bags': 8, 'learning_rate': 0.01}\n",
            "---------- ----------\n",
            "Grid search run 57/70:\n",
            "Training with parameters: {'n_jobs': 4, 'early_stopping_rounds': 100, 'random_state': 12345, 'max_bins': 128, 'interactions': 5, 'outer_bags': 16, 'learning_rate': 0.05}\n",
            "---------- ----------\n",
            "Grid search run 58/70:\n",
            "Training with parameters: {'n_jobs': 4, 'early_stopping_rounds': 100, 'random_state': 12345, 'max_bins': 512, 'interactions': 10, 'outer_bags': 4, 'learning_rate': 0.01}\n",
            "---------- ----------\n",
            "Grid search run 59/70:\n",
            "Training with parameters: {'n_jobs': 4, 'early_stopping_rounds': 100, 'random_state': 12345, 'max_bins': 128, 'interactions': 5, 'outer_bags': 4, 'learning_rate': 0.01}\n",
            "---------- ----------\n",
            "Grid search run 60/70:\n",
            "Training with parameters: {'n_jobs': 4, 'early_stopping_rounds': 100, 'random_state': 12345, 'max_bins': 256, 'interactions': 10, 'outer_bags': 16, 'learning_rate': 0.1}\n",
            "---------- ----------\n",
            "Grid search run 61/70:\n",
            "Training with parameters: {'n_jobs': 4, 'early_stopping_rounds': 100, 'random_state': 12345, 'max_bins': 512, 'interactions': 5, 'outer_bags': 8, 'learning_rate': 0.01}\n",
            "---------- ----------\n",
            "Grid search run 62/70:\n",
            "Training with parameters: {'n_jobs': 4, 'early_stopping_rounds': 100, 'random_state': 12345, 'max_bins': 128, 'interactions': 10, 'outer_bags': 8, 'learning_rate': 0.1}\n",
            "---------- ----------\n",
            "Grid search run 63/70:\n",
            "Training with parameters: {'n_jobs': 4, 'early_stopping_rounds': 100, 'random_state': 12345, 'max_bins': 128, 'interactions': 20, 'outer_bags': 16, 'learning_rate': 0.1}\n",
            "---------- ----------\n",
            "Grid search run 64/70:\n",
            "Training with parameters: {'n_jobs': 4, 'early_stopping_rounds': 100, 'random_state': 12345, 'max_bins': 256, 'interactions': 10, 'outer_bags': 16, 'learning_rate': 0.05}\n",
            "---------- ----------\n",
            "Grid search run 65/70:\n",
            "Training with parameters: {'n_jobs': 4, 'early_stopping_rounds': 100, 'random_state': 12345, 'max_bins': 256, 'interactions': 5, 'outer_bags': 8, 'learning_rate': 0.01}\n",
            "---------- ----------\n",
            "Grid search run 66/70:\n",
            "Training with parameters: {'n_jobs': 4, 'early_stopping_rounds': 100, 'random_state': 12345, 'max_bins': 256, 'interactions': 5, 'outer_bags': 8, 'learning_rate': 0.1}\n",
            "---------- ----------\n",
            "Grid search run 67/70:\n",
            "Training with parameters: {'n_jobs': 4, 'early_stopping_rounds': 100, 'random_state': 12345, 'max_bins': 128, 'interactions': 5, 'outer_bags': 8, 'learning_rate': 0.01}\n",
            "---------- ----------\n",
            "Grid search run 68/70:\n",
            "Training with parameters: {'n_jobs': 4, 'early_stopping_rounds': 100, 'random_state': 12345, 'max_bins': 512, 'interactions': 10, 'outer_bags': 4, 'learning_rate': 0.05}\n",
            "---------- ----------\n",
            "Grid search run 69/70:\n",
            "Training with parameters: {'n_jobs': 4, 'early_stopping_rounds': 100, 'random_state': 12345, 'max_bins': 128, 'interactions': 5, 'outer_bags': 16, 'learning_rate': 0.01}\n",
            "---------- ----------\n",
            "Grid search run 70/70:\n",
            "Training with parameters: {'n_jobs': 4, 'early_stopping_rounds': 100, 'random_state': 12345, 'max_bins': 512, 'interactions': 10, 'outer_bags': 8, 'learning_rate': 0.01}\n",
            "---------- ----------\n",
            "EBM training completed in 8758.45 s.\n"
          ]
        }
      ],
      "source": [
        "# start local timer\n",
        "ebm2_tic = time.time()\n",
        "\n",
        "# new grid search that also considers AIR and fairness\n",
        "best_ebm2, ebm_grid_frame = ebm_grid(train, best_ebm_phat, x_names, y_name, gs_params=gs_params, n_models=70,\n",
        "                                     early_stopping_rounds=100, seed=SEED, air_reference='white', air_protected='black',\n",
        "                                     air_cut=0.17)\n",
        "\n",
        "# end local timer\n",
        "ebm2_toc = time.time() - ebm2_tic\n",
        "print('EBM training completed in %.2f s.' % (ebm2_toc))"
      ]
    },
    {
      "cell_type": "markdown",
      "id": "6c2dd816",
      "metadata": {
        "id": "6c2dd816"
      },
      "source": [
        "#### Display grid search results as table"
      ]
    },
    {
      "cell_type": "code",
      "execution_count": 23,
      "id": "192a0792",
      "metadata": {
        "colab": {
          "base_uri": "https://localhost:8080/",
          "height": 423
        },
        "id": "192a0792",
        "outputId": "6c1aa75b-0b1a-4765-fe48-fc3caaf0fdda"
      },
      "outputs": [
        {
          "output_type": "execute_result",
          "data": {
            "text/plain": [
              "   max_bins interactions outer_bags  learning_rate  \\\n",
              "0       256            5          4           0.10   \n",
              "1       128            5          4           0.05   \n",
              "2       256           10          4           0.01   \n",
              "3       256           10          8           0.10   \n",
              "4       256            5         16           0.05   \n",
              "..      ...          ...        ...            ...   \n",
              "65      256            5          8           0.10   \n",
              "66      128            5          8           0.01   \n",
              "67      512           10          4           0.05   \n",
              "68      128            5         16           0.01   \n",
              "69      512           10          8           0.01   \n",
              "\n",
              "                                             features       auc       air  \\\n",
              "0   conforming, loan_to_value_ratio_std, intro_rat...  0.820874  0.731142   \n",
              "1   income_std, conforming, property_value_std, de...  0.805876  0.726804   \n",
              "2   loan_to_value_ratio_std, no_intro_rate_period_...  0.798072  0.666028   \n",
              "3   loan_to_value_ratio_std, property_value_std, d...  0.824923  0.722906   \n",
              "4   property_value_std, conforming, no_intro_rate_...  0.725276  0.932708   \n",
              "..                                                ...       ...       ...   \n",
              "65  loan_to_value_ratio_std, term_360, no_intro_ra...  0.787476  0.642123   \n",
              "66                 term_360, no_intro_rate_period_std  0.527678  1.000000   \n",
              "67  no_intro_rate_period_std, debt_to_income_ratio...  0.818788  0.702194   \n",
              "68  term_360, debt_to_income_ratio_std, loan_amoun...  0.821473  0.735447   \n",
              "69                     property_value_std, income_std  0.716143  0.913847   \n",
              "\n",
              "    n_jobs  early_stopping_rounds  random_state  \n",
              "0      4.0                  100.0       12345.0  \n",
              "1      4.0                  100.0       12345.0  \n",
              "2      4.0                  100.0       12345.0  \n",
              "3      4.0                  100.0       12345.0  \n",
              "4      4.0                  100.0       12345.0  \n",
              "..     ...                    ...           ...  \n",
              "65     4.0                  100.0       12345.0  \n",
              "66     4.0                  100.0       12345.0  \n",
              "67     4.0                  100.0       12345.0  \n",
              "68     4.0                  100.0       12345.0  \n",
              "69     4.0                  100.0       12345.0  \n",
              "\n",
              "[70 rows x 10 columns]"
            ],
            "text/html": [
              "\n",
              "  <div id=\"df-efd63d1d-e375-4e8e-a2ed-0f9380979d2a\" class=\"colab-df-container\">\n",
              "    <div>\n",
              "<style scoped>\n",
              "    .dataframe tbody tr th:only-of-type {\n",
              "        vertical-align: middle;\n",
              "    }\n",
              "\n",
              "    .dataframe tbody tr th {\n",
              "        vertical-align: top;\n",
              "    }\n",
              "\n",
              "    .dataframe thead th {\n",
              "        text-align: right;\n",
              "    }\n",
              "</style>\n",
              "<table border=\"1\" class=\"dataframe\">\n",
              "  <thead>\n",
              "    <tr style=\"text-align: right;\">\n",
              "      <th></th>\n",
              "      <th>max_bins</th>\n",
              "      <th>interactions</th>\n",
              "      <th>outer_bags</th>\n",
              "      <th>learning_rate</th>\n",
              "      <th>features</th>\n",
              "      <th>auc</th>\n",
              "      <th>air</th>\n",
              "      <th>n_jobs</th>\n",
              "      <th>early_stopping_rounds</th>\n",
              "      <th>random_state</th>\n",
              "    </tr>\n",
              "  </thead>\n",
              "  <tbody>\n",
              "    <tr>\n",
              "      <th>0</th>\n",
              "      <td>256</td>\n",
              "      <td>5</td>\n",
              "      <td>4</td>\n",
              "      <td>0.10</td>\n",
              "      <td>conforming, loan_to_value_ratio_std, intro_rat...</td>\n",
              "      <td>0.820874</td>\n",
              "      <td>0.731142</td>\n",
              "      <td>4.0</td>\n",
              "      <td>100.0</td>\n",
              "      <td>12345.0</td>\n",
              "    </tr>\n",
              "    <tr>\n",
              "      <th>1</th>\n",
              "      <td>128</td>\n",
              "      <td>5</td>\n",
              "      <td>4</td>\n",
              "      <td>0.05</td>\n",
              "      <td>income_std, conforming, property_value_std, de...</td>\n",
              "      <td>0.805876</td>\n",
              "      <td>0.726804</td>\n",
              "      <td>4.0</td>\n",
              "      <td>100.0</td>\n",
              "      <td>12345.0</td>\n",
              "    </tr>\n",
              "    <tr>\n",
              "      <th>2</th>\n",
              "      <td>256</td>\n",
              "      <td>10</td>\n",
              "      <td>4</td>\n",
              "      <td>0.01</td>\n",
              "      <td>loan_to_value_ratio_std, no_intro_rate_period_...</td>\n",
              "      <td>0.798072</td>\n",
              "      <td>0.666028</td>\n",
              "      <td>4.0</td>\n",
              "      <td>100.0</td>\n",
              "      <td>12345.0</td>\n",
              "    </tr>\n",
              "    <tr>\n",
              "      <th>3</th>\n",
              "      <td>256</td>\n",
              "      <td>10</td>\n",
              "      <td>8</td>\n",
              "      <td>0.10</td>\n",
              "      <td>loan_to_value_ratio_std, property_value_std, d...</td>\n",
              "      <td>0.824923</td>\n",
              "      <td>0.722906</td>\n",
              "      <td>4.0</td>\n",
              "      <td>100.0</td>\n",
              "      <td>12345.0</td>\n",
              "    </tr>\n",
              "    <tr>\n",
              "      <th>4</th>\n",
              "      <td>256</td>\n",
              "      <td>5</td>\n",
              "      <td>16</td>\n",
              "      <td>0.05</td>\n",
              "      <td>property_value_std, conforming, no_intro_rate_...</td>\n",
              "      <td>0.725276</td>\n",
              "      <td>0.932708</td>\n",
              "      <td>4.0</td>\n",
              "      <td>100.0</td>\n",
              "      <td>12345.0</td>\n",
              "    </tr>\n",
              "    <tr>\n",
              "      <th>...</th>\n",
              "      <td>...</td>\n",
              "      <td>...</td>\n",
              "      <td>...</td>\n",
              "      <td>...</td>\n",
              "      <td>...</td>\n",
              "      <td>...</td>\n",
              "      <td>...</td>\n",
              "      <td>...</td>\n",
              "      <td>...</td>\n",
              "      <td>...</td>\n",
              "    </tr>\n",
              "    <tr>\n",
              "      <th>65</th>\n",
              "      <td>256</td>\n",
              "      <td>5</td>\n",
              "      <td>8</td>\n",
              "      <td>0.10</td>\n",
              "      <td>loan_to_value_ratio_std, term_360, no_intro_ra...</td>\n",
              "      <td>0.787476</td>\n",
              "      <td>0.642123</td>\n",
              "      <td>4.0</td>\n",
              "      <td>100.0</td>\n",
              "      <td>12345.0</td>\n",
              "    </tr>\n",
              "    <tr>\n",
              "      <th>66</th>\n",
              "      <td>128</td>\n",
              "      <td>5</td>\n",
              "      <td>8</td>\n",
              "      <td>0.01</td>\n",
              "      <td>term_360, no_intro_rate_period_std</td>\n",
              "      <td>0.527678</td>\n",
              "      <td>1.000000</td>\n",
              "      <td>4.0</td>\n",
              "      <td>100.0</td>\n",
              "      <td>12345.0</td>\n",
              "    </tr>\n",
              "    <tr>\n",
              "      <th>67</th>\n",
              "      <td>512</td>\n",
              "      <td>10</td>\n",
              "      <td>4</td>\n",
              "      <td>0.05</td>\n",
              "      <td>no_intro_rate_period_std, debt_to_income_ratio...</td>\n",
              "      <td>0.818788</td>\n",
              "      <td>0.702194</td>\n",
              "      <td>4.0</td>\n",
              "      <td>100.0</td>\n",
              "      <td>12345.0</td>\n",
              "    </tr>\n",
              "    <tr>\n",
              "      <th>68</th>\n",
              "      <td>128</td>\n",
              "      <td>5</td>\n",
              "      <td>16</td>\n",
              "      <td>0.01</td>\n",
              "      <td>term_360, debt_to_income_ratio_std, loan_amoun...</td>\n",
              "      <td>0.821473</td>\n",
              "      <td>0.735447</td>\n",
              "      <td>4.0</td>\n",
              "      <td>100.0</td>\n",
              "      <td>12345.0</td>\n",
              "    </tr>\n",
              "    <tr>\n",
              "      <th>69</th>\n",
              "      <td>512</td>\n",
              "      <td>10</td>\n",
              "      <td>8</td>\n",
              "      <td>0.01</td>\n",
              "      <td>property_value_std, income_std</td>\n",
              "      <td>0.716143</td>\n",
              "      <td>0.913847</td>\n",
              "      <td>4.0</td>\n",
              "      <td>100.0</td>\n",
              "      <td>12345.0</td>\n",
              "    </tr>\n",
              "  </tbody>\n",
              "</table>\n",
              "<p>70 rows × 10 columns</p>\n",
              "</div>\n",
              "    <div class=\"colab-df-buttons\">\n",
              "\n",
              "  <div class=\"colab-df-container\">\n",
              "    <button class=\"colab-df-convert\" onclick=\"convertToInteractive('df-efd63d1d-e375-4e8e-a2ed-0f9380979d2a')\"\n",
              "            title=\"Convert this dataframe to an interactive table.\"\n",
              "            style=\"display:none;\">\n",
              "\n",
              "  <svg xmlns=\"http://www.w3.org/2000/svg\" height=\"24px\" viewBox=\"0 -960 960 960\">\n",
              "    <path d=\"M120-120v-720h720v720H120Zm60-500h600v-160H180v160Zm220 220h160v-160H400v160Zm0 220h160v-160H400v160ZM180-400h160v-160H180v160Zm440 0h160v-160H620v160ZM180-180h160v-160H180v160Zm440 0h160v-160H620v160Z\"/>\n",
              "  </svg>\n",
              "    </button>\n",
              "\n",
              "  <style>\n",
              "    .colab-df-container {\n",
              "      display:flex;\n",
              "      gap: 12px;\n",
              "    }\n",
              "\n",
              "    .colab-df-convert {\n",
              "      background-color: #E8F0FE;\n",
              "      border: none;\n",
              "      border-radius: 50%;\n",
              "      cursor: pointer;\n",
              "      display: none;\n",
              "      fill: #1967D2;\n",
              "      height: 32px;\n",
              "      padding: 0 0 0 0;\n",
              "      width: 32px;\n",
              "    }\n",
              "\n",
              "    .colab-df-convert:hover {\n",
              "      background-color: #E2EBFA;\n",
              "      box-shadow: 0px 1px 2px rgba(60, 64, 67, 0.3), 0px 1px 3px 1px rgba(60, 64, 67, 0.15);\n",
              "      fill: #174EA6;\n",
              "    }\n",
              "\n",
              "    .colab-df-buttons div {\n",
              "      margin-bottom: 4px;\n",
              "    }\n",
              "\n",
              "    [theme=dark] .colab-df-convert {\n",
              "      background-color: #3B4455;\n",
              "      fill: #D2E3FC;\n",
              "    }\n",
              "\n",
              "    [theme=dark] .colab-df-convert:hover {\n",
              "      background-color: #434B5C;\n",
              "      box-shadow: 0px 1px 3px 1px rgba(0, 0, 0, 0.15);\n",
              "      filter: drop-shadow(0px 1px 2px rgba(0, 0, 0, 0.3));\n",
              "      fill: #FFFFFF;\n",
              "    }\n",
              "  </style>\n",
              "\n",
              "    <script>\n",
              "      const buttonEl =\n",
              "        document.querySelector('#df-efd63d1d-e375-4e8e-a2ed-0f9380979d2a button.colab-df-convert');\n",
              "      buttonEl.style.display =\n",
              "        google.colab.kernel.accessAllowed ? 'block' : 'none';\n",
              "\n",
              "      async function convertToInteractive(key) {\n",
              "        const element = document.querySelector('#df-efd63d1d-e375-4e8e-a2ed-0f9380979d2a');\n",
              "        const dataTable =\n",
              "          await google.colab.kernel.invokeFunction('convertToInteractive',\n",
              "                                                    [key], {});\n",
              "        if (!dataTable) return;\n",
              "\n",
              "        const docLinkHtml = 'Like what you see? Visit the ' +\n",
              "          '<a target=\"_blank\" href=https://colab.research.google.com/notebooks/data_table.ipynb>data table notebook</a>'\n",
              "          + ' to learn more about interactive tables.';\n",
              "        element.innerHTML = '';\n",
              "        dataTable['output_type'] = 'display_data';\n",
              "        await google.colab.output.renderOutput(dataTable, element);\n",
              "        const docLink = document.createElement('div');\n",
              "        docLink.innerHTML = docLinkHtml;\n",
              "        element.appendChild(docLink);\n",
              "      }\n",
              "    </script>\n",
              "  </div>\n",
              "\n",
              "\n",
              "<div id=\"df-c3d612c2-3d28-446b-a0af-661ca4095eda\">\n",
              "  <button class=\"colab-df-quickchart\" onclick=\"quickchart('df-c3d612c2-3d28-446b-a0af-661ca4095eda')\"\n",
              "            title=\"Suggest charts\"\n",
              "            style=\"display:none;\">\n",
              "\n",
              "<svg xmlns=\"http://www.w3.org/2000/svg\" height=\"24px\"viewBox=\"0 0 24 24\"\n",
              "     width=\"24px\">\n",
              "    <g>\n",
              "        <path d=\"M19 3H5c-1.1 0-2 .9-2 2v14c0 1.1.9 2 2 2h14c1.1 0 2-.9 2-2V5c0-1.1-.9-2-2-2zM9 17H7v-7h2v7zm4 0h-2V7h2v10zm4 0h-2v-4h2v4z\"/>\n",
              "    </g>\n",
              "</svg>\n",
              "  </button>\n",
              "\n",
              "<style>\n",
              "  .colab-df-quickchart {\n",
              "      --bg-color: #E8F0FE;\n",
              "      --fill-color: #1967D2;\n",
              "      --hover-bg-color: #E2EBFA;\n",
              "      --hover-fill-color: #174EA6;\n",
              "      --disabled-fill-color: #AAA;\n",
              "      --disabled-bg-color: #DDD;\n",
              "  }\n",
              "\n",
              "  [theme=dark] .colab-df-quickchart {\n",
              "      --bg-color: #3B4455;\n",
              "      --fill-color: #D2E3FC;\n",
              "      --hover-bg-color: #434B5C;\n",
              "      --hover-fill-color: #FFFFFF;\n",
              "      --disabled-bg-color: #3B4455;\n",
              "      --disabled-fill-color: #666;\n",
              "  }\n",
              "\n",
              "  .colab-df-quickchart {\n",
              "    background-color: var(--bg-color);\n",
              "    border: none;\n",
              "    border-radius: 50%;\n",
              "    cursor: pointer;\n",
              "    display: none;\n",
              "    fill: var(--fill-color);\n",
              "    height: 32px;\n",
              "    padding: 0;\n",
              "    width: 32px;\n",
              "  }\n",
              "\n",
              "  .colab-df-quickchart:hover {\n",
              "    background-color: var(--hover-bg-color);\n",
              "    box-shadow: 0 1px 2px rgba(60, 64, 67, 0.3), 0 1px 3px 1px rgba(60, 64, 67, 0.15);\n",
              "    fill: var(--button-hover-fill-color);\n",
              "  }\n",
              "\n",
              "  .colab-df-quickchart-complete:disabled,\n",
              "  .colab-df-quickchart-complete:disabled:hover {\n",
              "    background-color: var(--disabled-bg-color);\n",
              "    fill: var(--disabled-fill-color);\n",
              "    box-shadow: none;\n",
              "  }\n",
              "\n",
              "  .colab-df-spinner {\n",
              "    border: 2px solid var(--fill-color);\n",
              "    border-color: transparent;\n",
              "    border-bottom-color: var(--fill-color);\n",
              "    animation:\n",
              "      spin 1s steps(1) infinite;\n",
              "  }\n",
              "\n",
              "  @keyframes spin {\n",
              "    0% {\n",
              "      border-color: transparent;\n",
              "      border-bottom-color: var(--fill-color);\n",
              "      border-left-color: var(--fill-color);\n",
              "    }\n",
              "    20% {\n",
              "      border-color: transparent;\n",
              "      border-left-color: var(--fill-color);\n",
              "      border-top-color: var(--fill-color);\n",
              "    }\n",
              "    30% {\n",
              "      border-color: transparent;\n",
              "      border-left-color: var(--fill-color);\n",
              "      border-top-color: var(--fill-color);\n",
              "      border-right-color: var(--fill-color);\n",
              "    }\n",
              "    40% {\n",
              "      border-color: transparent;\n",
              "      border-right-color: var(--fill-color);\n",
              "      border-top-color: var(--fill-color);\n",
              "    }\n",
              "    60% {\n",
              "      border-color: transparent;\n",
              "      border-right-color: var(--fill-color);\n",
              "    }\n",
              "    80% {\n",
              "      border-color: transparent;\n",
              "      border-right-color: var(--fill-color);\n",
              "      border-bottom-color: var(--fill-color);\n",
              "    }\n",
              "    90% {\n",
              "      border-color: transparent;\n",
              "      border-bottom-color: var(--fill-color);\n",
              "    }\n",
              "  }\n",
              "</style>\n",
              "\n",
              "  <script>\n",
              "    async function quickchart(key) {\n",
              "      const quickchartButtonEl =\n",
              "        document.querySelector('#' + key + ' button');\n",
              "      quickchartButtonEl.disabled = true;  // To prevent multiple clicks.\n",
              "      quickchartButtonEl.classList.add('colab-df-spinner');\n",
              "      try {\n",
              "        const charts = await google.colab.kernel.invokeFunction(\n",
              "            'suggestCharts', [key], {});\n",
              "      } catch (error) {\n",
              "        console.error('Error during call to suggestCharts:', error);\n",
              "      }\n",
              "      quickchartButtonEl.classList.remove('colab-df-spinner');\n",
              "      quickchartButtonEl.classList.add('colab-df-quickchart-complete');\n",
              "    }\n",
              "    (() => {\n",
              "      let quickchartButtonEl =\n",
              "        document.querySelector('#df-c3d612c2-3d28-446b-a0af-661ca4095eda button');\n",
              "      quickchartButtonEl.style.display =\n",
              "        google.colab.kernel.accessAllowed ? 'block' : 'none';\n",
              "    })();\n",
              "  </script>\n",
              "</div>\n",
              "\n",
              "  <div id=\"id_ead60d06-6d50-412d-bb26-ef4149596859\">\n",
              "    <style>\n",
              "      .colab-df-generate {\n",
              "        background-color: #E8F0FE;\n",
              "        border: none;\n",
              "        border-radius: 50%;\n",
              "        cursor: pointer;\n",
              "        display: none;\n",
              "        fill: #1967D2;\n",
              "        height: 32px;\n",
              "        padding: 0 0 0 0;\n",
              "        width: 32px;\n",
              "      }\n",
              "\n",
              "      .colab-df-generate:hover {\n",
              "        background-color: #E2EBFA;\n",
              "        box-shadow: 0px 1px 2px rgba(60, 64, 67, 0.3), 0px 1px 3px 1px rgba(60, 64, 67, 0.15);\n",
              "        fill: #174EA6;\n",
              "      }\n",
              "\n",
              "      [theme=dark] .colab-df-generate {\n",
              "        background-color: #3B4455;\n",
              "        fill: #D2E3FC;\n",
              "      }\n",
              "\n",
              "      [theme=dark] .colab-df-generate:hover {\n",
              "        background-color: #434B5C;\n",
              "        box-shadow: 0px 1px 3px 1px rgba(0, 0, 0, 0.15);\n",
              "        filter: drop-shadow(0px 1px 2px rgba(0, 0, 0, 0.3));\n",
              "        fill: #FFFFFF;\n",
              "      }\n",
              "    </style>\n",
              "    <button class=\"colab-df-generate\" onclick=\"generateWithVariable('ebm_grid_frame')\"\n",
              "            title=\"Generate code using this dataframe.\"\n",
              "            style=\"display:none;\">\n",
              "\n",
              "  <svg xmlns=\"http://www.w3.org/2000/svg\" height=\"24px\"viewBox=\"0 0 24 24\"\n",
              "       width=\"24px\">\n",
              "    <path d=\"M7,19H8.4L18.45,9,17,7.55,7,17.6ZM5,21V16.75L18.45,3.32a2,2,0,0,1,2.83,0l1.4,1.43a1.91,1.91,0,0,1,.58,1.4,1.91,1.91,0,0,1-.58,1.4L9.25,21ZM18.45,9,17,7.55Zm-12,3A5.31,5.31,0,0,0,4.9,8.1,5.31,5.31,0,0,0,1,6.5,5.31,5.31,0,0,0,4.9,4.9,5.31,5.31,0,0,0,6.5,1,5.31,5.31,0,0,0,8.1,4.9,5.31,5.31,0,0,0,12,6.5,5.46,5.46,0,0,0,6.5,12Z\"/>\n",
              "  </svg>\n",
              "    </button>\n",
              "    <script>\n",
              "      (() => {\n",
              "      const buttonEl =\n",
              "        document.querySelector('#id_ead60d06-6d50-412d-bb26-ef4149596859 button.colab-df-generate');\n",
              "      buttonEl.style.display =\n",
              "        google.colab.kernel.accessAllowed ? 'block' : 'none';\n",
              "\n",
              "      buttonEl.onclick = () => {\n",
              "        google.colab.notebook.generateWithVariable('ebm_grid_frame');\n",
              "      }\n",
              "      })();\n",
              "    </script>\n",
              "  </div>\n",
              "\n",
              "    </div>\n",
              "  </div>\n"
            ],
            "application/vnd.google.colaboratory.intrinsic+json": {
              "type": "dataframe",
              "variable_name": "ebm_grid_frame",
              "summary": "{\n  \"name\": \"ebm_grid_frame\",\n  \"rows\": 70,\n  \"fields\": [\n    {\n      \"column\": \"max_bins\",\n      \"properties\": {\n        \"dtype\": \"date\",\n        \"min\": 128,\n        \"max\": 512,\n        \"num_unique_values\": 3,\n        \"samples\": [\n          256,\n          128,\n          512\n        ],\n        \"semantic_type\": \"\",\n        \"description\": \"\"\n      }\n    },\n    {\n      \"column\": \"interactions\",\n      \"properties\": {\n        \"dtype\": \"date\",\n        \"min\": 5,\n        \"max\": 20,\n        \"num_unique_values\": 3,\n        \"samples\": [\n          5,\n          10,\n          20\n        ],\n        \"semantic_type\": \"\",\n        \"description\": \"\"\n      }\n    },\n    {\n      \"column\": \"outer_bags\",\n      \"properties\": {\n        \"dtype\": \"date\",\n        \"min\": 4,\n        \"max\": 16,\n        \"num_unique_values\": 3,\n        \"samples\": [\n          4,\n          8,\n          16\n        ],\n        \"semantic_type\": \"\",\n        \"description\": \"\"\n      }\n    },\n    {\n      \"column\": \"learning_rate\",\n      \"properties\": {\n        \"dtype\": \"number\",\n        \"std\": 0.03813021168939744,\n        \"min\": 0.01,\n        \"max\": 0.1,\n        \"num_unique_values\": 3,\n        \"samples\": [\n          0.1,\n          0.05,\n          0.01\n        ],\n        \"semantic_type\": \"\",\n        \"description\": \"\"\n      }\n    },\n    {\n      \"column\": \"features\",\n      \"properties\": {\n        \"dtype\": \"string\",\n        \"num_unique_values\": 65,\n        \"samples\": [\n          \"debt_to_income_ratio_std, loan_to_value_ratio_std, debt_to_income_ratio_missing, conforming, intro_rate_period_std, term_360, loan_amount_std, no_intro_rate_period_std, property_value_std\",\n          \"debt_to_income_ratio_std, intro_rate_period_std, property_value_std, debt_to_income_ratio_missing, term_360, loan_amount_std, income_std, conforming, no_intro_rate_period_std\",\n          \"conforming, loan_to_value_ratio_std, intro_rate_period_std, property_value_std, income_std, loan_amount_std, no_intro_rate_period_std, debt_to_income_ratio_std, debt_to_income_ratio_missing, term_360\"\n        ],\n        \"semantic_type\": \"\",\n        \"description\": \"\"\n      }\n    },\n    {\n      \"column\": \"auc\",\n      \"properties\": {\n        \"dtype\": \"number\",\n        \"std\": 0.10275093031266391,\n        \"min\": 0.5003909827137683,\n        \"max\": 0.8249227214939365,\n        \"num_unique_values\": 65,\n        \"samples\": [\n          0.8195757338999183,\n          0.8162860848542242,\n          0.8208737755230642\n        ],\n        \"semantic_type\": \"\",\n        \"description\": \"\"\n      }\n    },\n    {\n      \"column\": \"air\",\n      \"properties\": {\n        \"dtype\": \"number\",\n        \"std\": 0.13530829344308104,\n        \"min\": 0.6232845341455016,\n        \"max\": 1.003343159013047,\n        \"num_unique_values\": 60,\n        \"samples\": [\n          0.7311420647065254,\n          1.0,\n          0.7393388954427658\n        ],\n        \"semantic_type\": \"\",\n        \"description\": \"\"\n      }\n    },\n    {\n      \"column\": \"n_jobs\",\n      \"properties\": {\n        \"dtype\": \"number\",\n        \"std\": 0.0,\n        \"min\": 4.0,\n        \"max\": 4.0,\n        \"num_unique_values\": 1,\n        \"samples\": [\n          4.0\n        ],\n        \"semantic_type\": \"\",\n        \"description\": \"\"\n      }\n    },\n    {\n      \"column\": \"early_stopping_rounds\",\n      \"properties\": {\n        \"dtype\": \"number\",\n        \"std\": 0.0,\n        \"min\": 100.0,\n        \"max\": 100.0,\n        \"num_unique_values\": 1,\n        \"samples\": [\n          100.0\n        ],\n        \"semantic_type\": \"\",\n        \"description\": \"\"\n      }\n    },\n    {\n      \"column\": \"random_state\",\n      \"properties\": {\n        \"dtype\": \"number\",\n        \"std\": 0.0,\n        \"min\": 12345.0,\n        \"max\": 12345.0,\n        \"num_unique_values\": 1,\n        \"samples\": [\n          12345.0\n        ],\n        \"semantic_type\": \"\",\n        \"description\": \"\"\n      }\n    }\n  ]\n}"
            }
          },
          "metadata": {},
          "execution_count": 23
        }
      ],
      "source": [
        "ebm_grid_frame"
      ]
    },
    {
      "cell_type": "markdown",
      "id": "70f5d43d",
      "metadata": {
        "id": "70f5d43d"
      },
      "source": [
        "#### Display grid search results as plot"
      ]
    },
    {
      "cell_type": "code",
      "execution_count": 24,
      "id": "deca0f44",
      "metadata": {
        "colab": {
          "base_uri": "https://localhost:8080/",
          "height": 718
        },
        "id": "deca0f44",
        "outputId": "5f6aa876-ba87-4e4e-f147-b5e615e47326",
        "scrolled": true
      },
      "outputs": [
        {
          "output_type": "display_data",
          "data": {
            "text/plain": [
              "<Figure size 800x800 with 1 Axes>"
            ],
            "image/png": "[encoded data removed]"
          },
          "metadata": {}
        }
      ],
      "source": [
        "fig, ax = plt.subplots(figsize=(8,8))\n",
        "_ = ebm_grid_frame.plot(kind='scatter', x='air', y='auc', title='AIR vs. AUC for EBMs', ax=ax)\n",
        "_ = ax.axvline(x=0.8, color='r', linestyle='--')\n",
        "_ = ax.set_ylim([0.4, 0.85])\n",
        "_ = ax.set_xlim([0.75, 1.05])\n",
        "_ = ax.set_xlabel('AIR')\n",
        "_ = ax.set_ylabel('AUC')"
      ]
    },
    {
      "cell_type": "markdown",
      "id": "df03ff02",
      "metadata": {
        "id": "df03ff02"
      },
      "source": [
        "#### Retrain most accurate model above 0.8 AIR"
      ]
    },
    {
      "cell_type": "code",
      "execution_count": 25,
      "id": "363c0f63",
      "metadata": {
        "colab": {
          "base_uri": "https://localhost:8080/"
        },
        "id": "363c0f63",
        "outputId": "becfe467-0ff6-41d1-9141-ca061fecdf70"
      },
      "outputs": [
        {
          "output_type": "stream",
          "name": "stdout",
          "text": [
            "Best AUC: 0.7767 above 0.8 AIR (0.8016).\n",
            "Remediated EBM retrained with AUC: 0.7767.\n"
          ]
        }
      ],
      "source": [
        "# extract new params dict from ebm_grid_frame\n",
        "rem_params = ebm_grid_frame.loc[ebm_grid_frame['air'] > 0.8].sort_values(by='auc', ascending=False).iloc[0, :].to_dict()\n",
        "\n",
        "# extract features from dict then delete from dict\n",
        "rem_x_names = rem_params['features']\n",
        "rem_x_names = [name.strip() for name in rem_x_names.split(',')]\n",
        "del rem_params['features']\n",
        "\n",
        "# record and delete other extraneous information\n",
        "print('Best AUC: %.4f above 0.8 AIR (%.4f).' % (rem_params['auc'], rem_params['air']))\n",
        "del rem_params['auc']\n",
        "del rem_params['air']\n",
        "\n",
        "# reset some parameters to integers\n",
        "rem_params['random_state'] = int(rem_params['random_state'])\n",
        "rem_params['n_jobs'] = int(rem_params['n_jobs'])\n",
        "rem_params['early_stopping_rounds'] = int(rem_params['early_stopping_rounds'])\n",
        "\n",
        "# retrain\n",
        "rem_ebm = ExplainableBoostingClassifier(**rem_params)\n",
        "rem_ebm.fit(train[rem_x_names], train[y_name])\n",
        "rem_ebm_perf = ROC(rem_ebm.predict_proba).explain_perf(valid[rem_x_names], valid[y_name])\n",
        "rem_auc = rem_ebm_perf._internal_obj['overall']['auc']\n",
        "print('Remediated EBM retrained with AUC: %.4f.' % rem_auc)"
      ]
    },
    {
      "cell_type": "markdown",
      "id": "41716452",
      "metadata": {
        "id": "41716452"
      },
      "source": [
        "#### Check that other groups are not adversely impacted by change"
      ]
    },
    {
      "cell_type": "code",
      "execution_count": 26,
      "id": "8abd6d5f",
      "metadata": {
        "colab": {
          "base_uri": "https://localhost:8080/"
        },
        "id": "8abd6d5f",
        "outputId": "dfc1641e-33c2-47fe-a1dc-afb82350d138"
      },
      "outputs": [
        {
          "output_type": "stream",
          "name": "stdout",
          "text": [
            "Adverse impact ratio for Asian people vs. White people: 1.158\n",
            "Adverse impact ratio for Black people vs. White people: 0.802\n",
            "Adverse impact ratio for Females vs. Males: 0.957\n"
          ]
        }
      ],
      "source": [
        "# create a frame with remediated EBM predictions\n",
        "best_ebm_phat2 = pd.DataFrame(rem_ebm.predict_proba(valid[rem_x_names])[:, 1], columns=['phat'])\n",
        "best_ebm_phat2 = pd.concat([valid.reset_index(drop=True), best_ebm_phat2], axis=1)\n",
        "\n",
        "# calculate new confusion matrices for each group\n",
        "rem_cm_dict2 = {}\n",
        "for name in demographic_group_names:\n",
        "    rem_cm_dict2[name] = get_confusion_matrix(best_ebm_phat2, y_name, 'phat', by=name, level=1, cutoff=0.17, verbose=False)\n",
        "\n",
        "# calculate AIR for each group\n",
        "print('Adverse impact ratio for Asian people vs. White people: %.3f' % air(rem_cm_dict2, 'white', 'asian', verbose=False))\n",
        "print('Adverse impact ratio for Black people vs. White people: %.3f' % air(rem_cm_dict2, 'white', 'black', verbose=False))\n",
        "print('Adverse impact ratio for Females vs. Males: %.3f' % air(rem_cm_dict2, 'male', 'female', verbose=False))"
      ]
    },
    {
      "cell_type": "markdown",
      "id": "733c9570",
      "metadata": {
        "id": "733c9570"
      },
      "source": [
        "This analysis shows that even with a selective cutoff of 0.17, less discriminatory models are available. The new set of features and hyperparameters leads to a ~13% increase in AIR with a ~5% decrease in AUC."
      ]
    },
    {
      "cell_type": "markdown",
      "id": "9203933c",
      "metadata": {
        "id": "9203933c"
      },
      "source": [
        "#### Print best model parameters for later use"
      ]
    },
    {
      "cell_type": "code",
      "execution_count": 27,
      "id": "972cef55",
      "metadata": {
        "colab": {
          "base_uri": "https://localhost:8080/"
        },
        "id": "972cef55",
        "outputId": "93feebbe-c886-459b-a9f3-adae2f403359"
      },
      "outputs": [
        {
          "output_type": "execute_result",
          "data": {
            "text/plain": [
              "{'max_bins': 512,\n",
              " 'interactions': 5,\n",
              " 'outer_bags': 16,\n",
              " 'learning_rate': 0.1,\n",
              " 'n_jobs': 4,\n",
              " 'early_stopping_rounds': 100,\n",
              " 'random_state': 12345}"
            ]
          },
          "metadata": {},
          "execution_count": 27
        }
      ],
      "source": [
        "rem_params"
      ]
    },
    {
      "cell_type": "markdown",
      "id": "8f3f1647",
      "metadata": {
        "id": "8f3f1647"
      },
      "source": [
        "#### Print best model features for later use  "
      ]
    },
    {
      "cell_type": "code",
      "execution_count": 28,
      "id": "f173ac4f",
      "metadata": {
        "colab": {
          "base_uri": "https://localhost:8080/"
        },
        "id": "f173ac4f",
        "outputId": "c8ec32f3-e651-4fe3-9c3d-d5eb6446f455"
      },
      "outputs": [
        {
          "output_type": "execute_result",
          "data": {
            "text/plain": [
              "['no_intro_rate_period_std',\n",
              " 'debt_to_income_ratio_std',\n",
              " 'intro_rate_period_std',\n",
              " 'income_std',\n",
              " 'property_value_std',\n",
              " 'debt_to_income_ratio_missing']"
            ]
          },
          "metadata": {},
          "execution_count": 28
        }
      ],
      "source": [
        "rem_x_names"
      ]
    },
    {
      "cell_type": "markdown",
      "id": "f1e0ec79",
      "metadata": {
        "id": "f1e0ec79"
      },
      "source": [
        "#### Write submission file"
      ]
    },
    {
      "cell_type": "code",
      "execution_count": 29,
      "id": "c2d71d87",
      "metadata": {
        "id": "c2d71d87"
      },
      "outputs": [],
      "source": [
        "rem_ebm_submit = pd.DataFrame(rem_ebm.predict_proba(test[rem_x_names])[:, 1], columns=['phat'])\n",
        "rem_ebm_submit.to_csv('Adi_rem_ebm_' + str(datetime.datetime.now().strftime(\"%Y_%m_%d_%H_%M_%S\") + '.csv'),\n",
        "                        index=False)"
      ]
    },
    {
      "cell_type": "code",
      "execution_count": 30,
      "id": "phgciTnUO_GZ",
      "metadata": {
        "colab": {
          "base_uri": "https://localhost:8080/"
        },
        "id": "phgciTnUO_GZ",
        "outputId": "a9c7302f-db12-40ca-ae26-517fc2ee2b6b"
      },
      "outputs": [
        {
          "output_type": "execute_result",
          "data": {
            "text/plain": [
              "['no_intro_rate_period_std',\n",
              " 'debt_to_income_ratio_std',\n",
              " 'intro_rate_period_std',\n",
              " 'income_std',\n",
              " 'property_value_std',\n",
              " 'debt_to_income_ratio_missing']"
            ]
          },
          "metadata": {},
          "execution_count": 30
        }
      ],
      "source": [
        "rem_x_names"
      ]
    },
    {
      "cell_type": "markdown",
      "id": "35aaaa92",
      "metadata": {
        "id": "35aaaa92"
      },
      "source": [
        "#### End timer"
      ]
    },
    {
      "cell_type": "code",
      "execution_count": 31,
      "id": "e978d190",
      "metadata": {
        "colab": {
          "base_uri": "https://localhost:8080/"
        },
        "id": "e978d190",
        "outputId": "f460e700-ae33-481f-d134-213d1d0bfc0c"
      },
      "outputs": [
        {
          "output_type": "stream",
          "name": "stdout",
          "text": [
            "All tasks completed in 13572.96 s.\n"
          ]
        }
      ],
      "source": [
        "toc = time.time() - tic\n",
        "print('All tasks completed in %.2f s.' % (toc))"
      ]
    },
    {
      "cell_type": "code",
      "execution_count": null,
      "id": "3S7gI8MxWGLg",
      "metadata": {
        "id": "3S7gI8MxWGLg"
      },
      "outputs": [],
      "source": []
    }
  ],
  "metadata": {
    "colab": {
      "provenance": []
    },
    "kernelspec": {
      "display_name": "Python 3 (ipykernel)",
      "language": "python",
      "name": "python3"
    },
    "language_info": {
      "codemirror_mode": {
        "name": "ipython",
        "version": 3
      },
      "file_extension": ".py",
      "mimetype": "text/x-python",
      "name": "python",
      "nbconvert_exporter": "python",
      "pygments_lexer": "ipython3",
      "version": "3.7.16"
    }
  },
  "nbformat": 4,
  "nbformat_minor": 5
}